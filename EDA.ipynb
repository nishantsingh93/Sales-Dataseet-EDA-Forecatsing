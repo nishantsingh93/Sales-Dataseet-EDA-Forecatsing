{
 "cells": [
  {
   "cell_type": "code",
   "execution_count": 1,
   "metadata": {},
   "outputs": [
    {
     "name": "stdout",
     "output_type": "stream",
     "text": [
      "Populating the interactive namespace from numpy and matplotlib\n"
     ]
    }
   ],
   "source": [
    "import pandas as pd\n",
    "import numpy as np\n",
    "import seaborn as sns\n",
    "%pylab inline\n",
    "import calendar\n"
   ]
  },
  {
   "cell_type": "code",
   "execution_count": 2,
   "metadata": {},
   "outputs": [
    {
     "data": {
      "text/plain": [
       "['Restaurant Data', 'Restaurant Info']"
      ]
     },
     "execution_count": 2,
     "metadata": {},
     "output_type": "execute_result"
    }
   ],
   "source": [
    "xl = pd.ExcelFile(\"Restaurant Data .xlsx\")\n",
    "xl.sheet_names"
   ]
  },
  {
   "cell_type": "code",
   "execution_count": 3,
   "metadata": {},
   "outputs": [],
   "source": [
    "df1 = xl.parse(\"Restaurant Data\")\n",
    "df2 = xl.parse(\"Restaurant Info\")\n"
   ]
  },
  {
   "cell_type": "code",
   "execution_count": 4,
   "metadata": {},
   "outputs": [
    {
     "data": {
      "text/html": [
       "<div>\n",
       "<style scoped>\n",
       "    .dataframe tbody tr th:only-of-type {\n",
       "        vertical-align: middle;\n",
       "    }\n",
       "\n",
       "    .dataframe tbody tr th {\n",
       "        vertical-align: top;\n",
       "    }\n",
       "\n",
       "    .dataframe thead th {\n",
       "        text-align: right;\n",
       "    }\n",
       "</style>\n",
       "<table border=\"1\" class=\"dataframe\">\n",
       "  <thead>\n",
       "    <tr style=\"text-align: right;\">\n",
       "      <th></th>\n",
       "      <th>Restaurant Name</th>\n",
       "      <th>Date</th>\n",
       "      <th>Net Sales</th>\n",
       "      <th>POS Checks</th>\n",
       "      <th>Labor Cost</th>\n",
       "      <th>Game Revenue</th>\n",
       "    </tr>\n",
       "  </thead>\n",
       "  <tbody>\n",
       "    <tr>\n",
       "      <th>0</th>\n",
       "      <td>AL - 01</td>\n",
       "      <td>2014-01-01</td>\n",
       "      <td>1687.0</td>\n",
       "      <td>94</td>\n",
       "      <td>609.61</td>\n",
       "      <td>NaN</td>\n",
       "    </tr>\n",
       "    <tr>\n",
       "      <th>1</th>\n",
       "      <td>AL - 01</td>\n",
       "      <td>2014-01-02</td>\n",
       "      <td>2182.0</td>\n",
       "      <td>116</td>\n",
       "      <td>577.59</td>\n",
       "      <td>NaN</td>\n",
       "    </tr>\n",
       "    <tr>\n",
       "      <th>2</th>\n",
       "      <td>AL - 01</td>\n",
       "      <td>2014-01-03</td>\n",
       "      <td>2772.0</td>\n",
       "      <td>145</td>\n",
       "      <td>717.09</td>\n",
       "      <td>NaN</td>\n",
       "    </tr>\n",
       "    <tr>\n",
       "      <th>3</th>\n",
       "      <td>AL - 01</td>\n",
       "      <td>2014-01-04</td>\n",
       "      <td>2253.0</td>\n",
       "      <td>99</td>\n",
       "      <td>705.19</td>\n",
       "      <td>NaN</td>\n",
       "    </tr>\n",
       "    <tr>\n",
       "      <th>4</th>\n",
       "      <td>AL - 01</td>\n",
       "      <td>2014-01-05</td>\n",
       "      <td>1390.0</td>\n",
       "      <td>70</td>\n",
       "      <td>626.58</td>\n",
       "      <td>NaN</td>\n",
       "    </tr>\n",
       "  </tbody>\n",
       "</table>\n",
       "</div>"
      ],
      "text/plain": [
       "  Restaurant Name       Date  Net Sales  POS Checks  Labor Cost  Game Revenue\n",
       "0         AL - 01 2014-01-01     1687.0          94      609.61           NaN\n",
       "1         AL - 01 2014-01-02     2182.0         116      577.59           NaN\n",
       "2         AL - 01 2014-01-03     2772.0         145      717.09           NaN\n",
       "3         AL - 01 2014-01-04     2253.0          99      705.19           NaN\n",
       "4         AL - 01 2014-01-05     1390.0          70      626.58           NaN"
      ]
     },
     "execution_count": 4,
     "metadata": {},
     "output_type": "execute_result"
    }
   ],
   "source": [
    "df1.head()"
   ]
  },
  {
   "cell_type": "code",
   "execution_count": 17,
   "metadata": {},
   "outputs": [
    {
     "data": {
      "text/plain": [
       "30"
      ]
     },
     "execution_count": 17,
     "metadata": {},
     "output_type": "execute_result"
    }
   ],
   "source": [
    "x= df2[df2['Go Live Date']<'2014-01-01']\n",
    "x['Restaurant Name'].nunique()"
   ]
  },
  {
   "cell_type": "code",
   "execution_count": 18,
   "metadata": {},
   "outputs": [
    {
     "data": {
      "text/plain": [
       "43063"
      ]
     },
     "execution_count": 18,
     "metadata": {},
     "output_type": "execute_result"
    }
   ],
   "source": [
    "len(df1) "
   ]
  },
  {
   "cell_type": "code",
   "execution_count": 19,
   "metadata": {},
   "outputs": [
    {
     "data": {
      "text/plain": [
       "Restaurant Name            object\n",
       "Date               datetime64[ns]\n",
       "Net Sales                 float64\n",
       "POS Checks                  int64\n",
       "Labor Cost                float64\n",
       "Game Revenue              float64\n",
       "dtype: object"
      ]
     },
     "execution_count": 19,
     "metadata": {},
     "output_type": "execute_result"
    }
   ],
   "source": [
    "df1.dtypes "
   ]
  },
  {
   "cell_type": "code",
   "execution_count": 20,
   "metadata": {},
   "outputs": [
    {
     "data": {
      "text/plain": [
       "(43063, 6)"
      ]
     },
     "execution_count": 20,
     "metadata": {},
     "output_type": "execute_result"
    }
   ],
   "source": [
    "df1.shape"
   ]
  },
  {
   "cell_type": "code",
   "execution_count": 21,
   "metadata": {},
   "outputs": [
    {
     "data": {
      "text/html": [
       "<div>\n",
       "<style scoped>\n",
       "    .dataframe tbody tr th:only-of-type {\n",
       "        vertical-align: middle;\n",
       "    }\n",
       "\n",
       "    .dataframe tbody tr th {\n",
       "        vertical-align: top;\n",
       "    }\n",
       "\n",
       "    .dataframe thead th {\n",
       "        text-align: right;\n",
       "    }\n",
       "</style>\n",
       "<table border=\"1\" class=\"dataframe\">\n",
       "  <thead>\n",
       "    <tr style=\"text-align: right;\">\n",
       "      <th></th>\n",
       "      <th>Net Sales</th>\n",
       "      <th>POS Checks</th>\n",
       "      <th>Labor Cost</th>\n",
       "      <th>Game Revenue</th>\n",
       "    </tr>\n",
       "  </thead>\n",
       "  <tbody>\n",
       "    <tr>\n",
       "      <th>count</th>\n",
       "      <td>43063.000000</td>\n",
       "      <td>43063.000000</td>\n",
       "      <td>43063.000000</td>\n",
       "      <td>22498.000000</td>\n",
       "    </tr>\n",
       "    <tr>\n",
       "      <th>mean</th>\n",
       "      <td>3111.583506</td>\n",
       "      <td>140.493974</td>\n",
       "      <td>645.450729</td>\n",
       "      <td>14.364773</td>\n",
       "    </tr>\n",
       "    <tr>\n",
       "      <th>std</th>\n",
       "      <td>1450.416221</td>\n",
       "      <td>59.356652</td>\n",
       "      <td>267.430862</td>\n",
       "      <td>4.673675</td>\n",
       "    </tr>\n",
       "    <tr>\n",
       "      <th>min</th>\n",
       "      <td>125.000000</td>\n",
       "      <td>10.000000</td>\n",
       "      <td>18.000000</td>\n",
       "      <td>0.000000</td>\n",
       "    </tr>\n",
       "    <tr>\n",
       "      <th>25%</th>\n",
       "      <td>2065.000000</td>\n",
       "      <td>98.000000</td>\n",
       "      <td>447.488450</td>\n",
       "      <td>11.000000</td>\n",
       "    </tr>\n",
       "    <tr>\n",
       "      <th>50%</th>\n",
       "      <td>2831.000000</td>\n",
       "      <td>131.000000</td>\n",
       "      <td>596.600000</td>\n",
       "      <td>13.666667</td>\n",
       "    </tr>\n",
       "    <tr>\n",
       "      <th>75%</th>\n",
       "      <td>3870.000000</td>\n",
       "      <td>172.000000</td>\n",
       "      <td>791.498400</td>\n",
       "      <td>16.916667</td>\n",
       "    </tr>\n",
       "    <tr>\n",
       "      <th>max</th>\n",
       "      <td>12092.000000</td>\n",
       "      <td>513.000000</td>\n",
       "      <td>2632.237900</td>\n",
       "      <td>44.333333</td>\n",
       "    </tr>\n",
       "  </tbody>\n",
       "</table>\n",
       "</div>"
      ],
      "text/plain": [
       "          Net Sales    POS Checks    Labor Cost  Game Revenue\n",
       "count  43063.000000  43063.000000  43063.000000  22498.000000\n",
       "mean    3111.583506    140.493974    645.450729     14.364773\n",
       "std     1450.416221     59.356652    267.430862      4.673675\n",
       "min      125.000000     10.000000     18.000000      0.000000\n",
       "25%     2065.000000     98.000000    447.488450     11.000000\n",
       "50%     2831.000000    131.000000    596.600000     13.666667\n",
       "75%     3870.000000    172.000000    791.498400     16.916667\n",
       "max    12092.000000    513.000000   2632.237900     44.333333"
      ]
     },
     "execution_count": 21,
     "metadata": {},
     "output_type": "execute_result"
    }
   ],
   "source": [
    "df1.describe() "
   ]
  },
  {
   "cell_type": "code",
   "execution_count": 22,
   "metadata": {},
   "outputs": [
    {
     "data": {
      "text/plain": [
       "Restaurant Name        0\n",
       "Date                   0\n",
       "Net Sales              0\n",
       "POS Checks             0\n",
       "Labor Cost             0\n",
       "Game Revenue       20565\n",
       "dtype: int64"
      ]
     },
     "execution_count": 22,
     "metadata": {},
     "output_type": "execute_result"
    }
   ],
   "source": [
    "df1.isnull().sum()"
   ]
  },
  {
   "cell_type": "code",
   "execution_count": 23,
   "metadata": {},
   "outputs": [
    {
     "data": {
      "text/plain": [
       "105"
      ]
     },
     "execution_count": 23,
     "metadata": {},
     "output_type": "execute_result"
    }
   ],
   "source": [
    "len(df2)"
   ]
  },
  {
   "cell_type": "code",
   "execution_count": 24,
   "metadata": {},
   "outputs": [
    {
     "data": {
      "text/plain": [
       "Restaurant Name                     object\n",
       "Go Live Date                datetime64[ns]\n",
       "Franchise/Owner                     object\n",
       "State                               object\n",
       "Presto Devices Installed           float64\n",
       "dtype: object"
      ]
     },
     "execution_count": 24,
     "metadata": {},
     "output_type": "execute_result"
    }
   ],
   "source": [
    " \n",
    "df2.dtypes"
   ]
  },
  {
   "cell_type": "code",
   "execution_count": 25,
   "metadata": {},
   "outputs": [
    {
     "data": {
      "text/plain": [
       "(105, 5)"
      ]
     },
     "execution_count": 25,
     "metadata": {},
     "output_type": "execute_result"
    }
   ],
   "source": [
    "df2.shape"
   ]
  },
  {
   "cell_type": "code",
   "execution_count": 26,
   "metadata": {},
   "outputs": [
    {
     "data": {
      "text/html": [
       "<div>\n",
       "<style scoped>\n",
       "    .dataframe tbody tr th:only-of-type {\n",
       "        vertical-align: middle;\n",
       "    }\n",
       "\n",
       "    .dataframe tbody tr th {\n",
       "        vertical-align: top;\n",
       "    }\n",
       "\n",
       "    .dataframe thead th {\n",
       "        text-align: right;\n",
       "    }\n",
       "</style>\n",
       "<table border=\"1\" class=\"dataframe\">\n",
       "  <thead>\n",
       "    <tr style=\"text-align: right;\">\n",
       "      <th></th>\n",
       "      <th>Presto Devices Installed</th>\n",
       "    </tr>\n",
       "  </thead>\n",
       "  <tbody>\n",
       "    <tr>\n",
       "      <th>count</th>\n",
       "      <td>72.000000</td>\n",
       "    </tr>\n",
       "    <tr>\n",
       "      <th>mean</th>\n",
       "      <td>45.722222</td>\n",
       "    </tr>\n",
       "    <tr>\n",
       "      <th>std</th>\n",
       "      <td>5.567062</td>\n",
       "    </tr>\n",
       "    <tr>\n",
       "      <th>min</th>\n",
       "      <td>25.000000</td>\n",
       "    </tr>\n",
       "    <tr>\n",
       "      <th>25%</th>\n",
       "      <td>42.000000</td>\n",
       "    </tr>\n",
       "    <tr>\n",
       "      <th>50%</th>\n",
       "      <td>45.000000</td>\n",
       "    </tr>\n",
       "    <tr>\n",
       "      <th>75%</th>\n",
       "      <td>50.000000</td>\n",
       "    </tr>\n",
       "    <tr>\n",
       "      <th>max</th>\n",
       "      <td>55.000000</td>\n",
       "    </tr>\n",
       "  </tbody>\n",
       "</table>\n",
       "</div>"
      ],
      "text/plain": [
       "       Presto Devices Installed\n",
       "count                 72.000000\n",
       "mean                  45.722222\n",
       "std                    5.567062\n",
       "min                   25.000000\n",
       "25%                   42.000000\n",
       "50%                   45.000000\n",
       "75%                   50.000000\n",
       "max                   55.000000"
      ]
     },
     "execution_count": 26,
     "metadata": {},
     "output_type": "execute_result"
    }
   ],
   "source": [
    "df2.describe() "
   ]
  },
  {
   "cell_type": "code",
   "execution_count": 27,
   "metadata": {},
   "outputs": [
    {
     "data": {
      "text/plain": [
       "Restaurant Name              0\n",
       "Go Live Date                34\n",
       "Franchise/Owner              0\n",
       "State                        0\n",
       "Presto Devices Installed    33\n",
       "dtype: int64"
      ]
     },
     "execution_count": 27,
     "metadata": {},
     "output_type": "execute_result"
    }
   ],
   "source": [
    "df2.isnull().sum()"
   ]
  },
  {
   "cell_type": "code",
   "execution_count": 28,
   "metadata": {},
   "outputs": [],
   "source": [
    "df3 = pd.merge(df1,df2, on='Restaurant Name' )"
   ]
  },
  {
   "cell_type": "code",
   "execution_count": 29,
   "metadata": {},
   "outputs": [
    {
     "data": {
      "text/plain": [
       "(43063, 10)"
      ]
     },
     "execution_count": 29,
     "metadata": {},
     "output_type": "execute_result"
    }
   ],
   "source": [
    "df3.shape"
   ]
  },
  {
   "cell_type": "code",
   "execution_count": 30,
   "metadata": {},
   "outputs": [],
   "source": [
    "df3['Month'] = pd.to_datetime(df3['Date'], format='%m').dt.month_name().str.slice(stop=3)\n",
    "df3['Year'] = df3['Date'].dt.year\n"
   ]
  },
  {
   "cell_type": "code",
   "execution_count": 31,
   "metadata": {},
   "outputs": [],
   "source": [
    "#model = df3"
   ]
  },
  {
   "cell_type": "code",
   "execution_count": 32,
   "metadata": {},
   "outputs": [
    {
     "data": {
      "text/html": [
       "<div>\n",
       "<style scoped>\n",
       "    .dataframe tbody tr th:only-of-type {\n",
       "        vertical-align: middle;\n",
       "    }\n",
       "\n",
       "    .dataframe tbody tr th {\n",
       "        vertical-align: top;\n",
       "    }\n",
       "\n",
       "    .dataframe thead th {\n",
       "        text-align: right;\n",
       "    }\n",
       "</style>\n",
       "<table border=\"1\" class=\"dataframe\">\n",
       "  <thead>\n",
       "    <tr style=\"text-align: right;\">\n",
       "      <th></th>\n",
       "      <th>Restaurant Name</th>\n",
       "      <th>Date</th>\n",
       "      <th>Net Sales</th>\n",
       "      <th>POS Checks</th>\n",
       "      <th>Labor Cost</th>\n",
       "      <th>Game Revenue</th>\n",
       "      <th>Go Live Date</th>\n",
       "      <th>Franchise/Owner</th>\n",
       "      <th>State</th>\n",
       "      <th>Presto Devices Installed</th>\n",
       "      <th>Month</th>\n",
       "      <th>Year</th>\n",
       "    </tr>\n",
       "  </thead>\n",
       "  <tbody>\n",
       "    <tr>\n",
       "      <th>0</th>\n",
       "      <td>AL - 01</td>\n",
       "      <td>2014-01-01</td>\n",
       "      <td>1687.0</td>\n",
       "      <td>94</td>\n",
       "      <td>609.61</td>\n",
       "      <td>NaN</td>\n",
       "      <td>NaT</td>\n",
       "      <td>Southern Group</td>\n",
       "      <td>AL</td>\n",
       "      <td>NaN</td>\n",
       "      <td>Jan</td>\n",
       "      <td>2014</td>\n",
       "    </tr>\n",
       "    <tr>\n",
       "      <th>1</th>\n",
       "      <td>AL - 01</td>\n",
       "      <td>2014-01-02</td>\n",
       "      <td>2182.0</td>\n",
       "      <td>116</td>\n",
       "      <td>577.59</td>\n",
       "      <td>NaN</td>\n",
       "      <td>NaT</td>\n",
       "      <td>Southern Group</td>\n",
       "      <td>AL</td>\n",
       "      <td>NaN</td>\n",
       "      <td>Jan</td>\n",
       "      <td>2014</td>\n",
       "    </tr>\n",
       "  </tbody>\n",
       "</table>\n",
       "</div>"
      ],
      "text/plain": [
       "  Restaurant Name       Date  Net Sales  POS Checks  Labor Cost  Game Revenue  \\\n",
       "0         AL - 01 2014-01-01     1687.0          94      609.61           NaN   \n",
       "1         AL - 01 2014-01-02     2182.0         116      577.59           NaN   \n",
       "\n",
       "  Go Live Date Franchise/Owner State  Presto Devices Installed Month  Year  \n",
       "0          NaT  Southern Group    AL                       NaN   Jan  2014  \n",
       "1          NaT  Southern Group    AL                       NaN   Jan  2014  "
      ]
     },
     "execution_count": 32,
     "metadata": {},
     "output_type": "execute_result"
    }
   ],
   "source": [
    "df3.head(2)"
   ]
  },
  {
   "cell_type": "code",
   "execution_count": 33,
   "metadata": {
    "scrolled": true
   },
   "outputs": [],
   "source": [
    "# All the Restaurant that have the Presto devices installed \n",
    "df4 = df3[df3['Date'] >= df3['Go Live Date']]\n",
    "\n",
    "# All the Restaurant that do not have have the Presto devices installed \n",
    "#df5 = df3[((df3['Go Live Date'].isnull()) | (df3['Date'] < df3['Go Live Date']))]\n",
    "df5 = df3[(df3['Date'] < df3['Go Live Date'])]"
   ]
  },
  {
   "cell_type": "code",
   "execution_count": 34,
   "metadata": {},
   "outputs": [
    {
     "data": {
      "text/plain": [
       "(22121, 12)"
      ]
     },
     "execution_count": 34,
     "metadata": {},
     "output_type": "execute_result"
    }
   ],
   "source": [
    "df4.shape"
   ]
  },
  {
   "cell_type": "code",
   "execution_count": 35,
   "metadata": {},
   "outputs": [
    {
     "data": {
      "text/plain": [
       "(7568, 12)"
      ]
     },
     "execution_count": 35,
     "metadata": {},
     "output_type": "execute_result"
    }
   ],
   "source": [
    "df5.shape"
   ]
  },
  {
   "cell_type": "code",
   "execution_count": 69,
   "metadata": {},
   "outputs": [
    {
     "data": {
      "text/plain": [
       "count                   43063\n",
       "unique                    452\n",
       "top       2014-04-02 00:00:00\n",
       "freq                      102\n",
       "first     2014-01-01 00:00:00\n",
       "last      2015-03-30 00:00:00\n",
       "Name: Date, dtype: object"
      ]
     },
     "execution_count": 69,
     "metadata": {},
     "output_type": "execute_result"
    }
   ],
   "source": [
    "df3['Date'].describe()"
   ]
  },
  {
   "cell_type": "code",
   "execution_count": 39,
   "metadata": {},
   "outputs": [],
   "source": [
    "# Creating a dictionary to see avg net sales for the resturant after presto devices \n",
    "after_group = df4.groupby('Restaurant Name')\n",
    "dict_after={}\n",
    "for key in after_group.groups.keys():\n",
    "    total_days = after_group.get_group(key)['Date'].max()- after_group.get_group(key)['Go Live Date']\n",
    "    #print(total_days)\n",
    "    days = total_days.dt.days.iloc[0]\n",
    "    #print(days)\n",
    "    total_sales = after_group.get_group(key)['Net Sales'].sum()\n",
    "    dict_after[key] = total_sales/days\n",
    "    \n",
    "#dict_after   "
   ]
  },
  {
   "cell_type": "code",
   "execution_count": 40,
   "metadata": {},
   "outputs": [],
   "source": [
    "# Creating a dictionary to see impact of labor cost after presto devices \n",
    "after_group = df4.groupby('Restaurant Name')\n",
    "dict_laborafter={}\n",
    "for key in after_group.groups.keys():\n",
    "    total_days = after_group.get_group(key)['Date'].max()- after_group.get_group(key)['Go Live Date']\n",
    "    days = total_days.dt.days.iloc[0]\n",
    "    labor_cost = after_group.get_group(key)['Labor Cost'].sum()\n",
    "    dict_laborafter[key] = labor_cost/days\n",
    "    \n",
    "    "
   ]
  },
  {
   "cell_type": "code",
   "execution_count": 41,
   "metadata": {
    "scrolled": true
   },
   "outputs": [],
   "source": [
    "#dict_laborafter"
   ]
  },
  {
   "cell_type": "code",
   "execution_count": 42,
   "metadata": {},
   "outputs": [],
   "source": [
    "# Creating a dictionary to see avg net sales for the resturant before presto devices \n",
    "before_group = df5.groupby('Restaurant Name')\n",
    "dict_before={}\n",
    "for key in before_group.groups.keys():\n",
    "    total_days = before_group.get_group(key)['Go Live Date'] - before_group.get_group(key)['Date'].min()\n",
    "    days = total_days.dt.days.iloc[0]\n",
    "    total_sales = before_group.get_group(key)['Net Sales'].sum()\n",
    "    dict_before[key] = total_sales/days"
   ]
  },
  {
   "cell_type": "code",
   "execution_count": 43,
   "metadata": {
    "scrolled": true
   },
   "outputs": [],
   "source": [
    "#dict_before"
   ]
  },
  {
   "cell_type": "code",
   "execution_count": 44,
   "metadata": {},
   "outputs": [],
   "source": [
    "# Creating a dictionary to see impact of labor cost before presto devices \n",
    "before_group = df5.groupby('Restaurant Name')\n",
    "dict_laborbefore={}\n",
    "for key in before_group.groups.keys():\n",
    "    total_days = before_group.get_group(key)['Go Live Date'] - before_group.get_group(key)['Date'].min()\n",
    "    days = total_days.dt.days.iloc[0]\n",
    "    labor_cost = before_group.get_group(key)['Labor Cost'].sum()\n",
    "    dict_laborbefore[key] = labor_cost/days\n",
    "    \n",
    "#dict_laborbefore"
   ]
  },
  {
   "cell_type": "code",
   "execution_count": 45,
   "metadata": {},
   "outputs": [],
   "source": [
    "# Creating a dictionary to see merge  presto devices sales figures for same resturant \n",
    "dict_merge = {'Restaurant Name':[],'Avg_sales_before_presto':[],'Avg_sales_after_presto':[]}\n",
    "for bk in dict_before:\n",
    "    if bk in dict_after:\n",
    "        dict_merge['Restaurant Name'].append(bk)\n",
    "        dict_merge['Avg_sales_before_presto'].append(dict_before[bk])\n",
    "        dict_merge['Avg_sales_after_presto'].append(dict_after[bk])\n",
    "#dict_merge"
   ]
  },
  {
   "cell_type": "code",
   "execution_count": 46,
   "metadata": {},
   "outputs": [
    {
     "data": {
      "text/html": [
       "<div>\n",
       "<style scoped>\n",
       "    .dataframe tbody tr th:only-of-type {\n",
       "        vertical-align: middle;\n",
       "    }\n",
       "\n",
       "    .dataframe tbody tr th {\n",
       "        vertical-align: top;\n",
       "    }\n",
       "\n",
       "    .dataframe thead th {\n",
       "        text-align: right;\n",
       "    }\n",
       "</style>\n",
       "<table border=\"1\" class=\"dataframe\">\n",
       "  <thead>\n",
       "    <tr style=\"text-align: right;\">\n",
       "      <th></th>\n",
       "      <th>Restaurant Name</th>\n",
       "      <th>Avg_sales_before_presto</th>\n",
       "      <th>Avg_sales_after_presto</th>\n",
       "    </tr>\n",
       "  </thead>\n",
       "  <tbody>\n",
       "    <tr>\n",
       "      <th>0</th>\n",
       "      <td>AL - 02</td>\n",
       "      <td>2856.428135</td>\n",
       "      <td>3077.400000</td>\n",
       "    </tr>\n",
       "    <tr>\n",
       "      <th>1</th>\n",
       "      <td>AL - 04</td>\n",
       "      <td>4979.823353</td>\n",
       "      <td>5303.847458</td>\n",
       "    </tr>\n",
       "    <tr>\n",
       "      <th>2</th>\n",
       "      <td>AL - 07</td>\n",
       "      <td>2746.289474</td>\n",
       "      <td>2196.630000</td>\n",
       "    </tr>\n",
       "    <tr>\n",
       "      <th>3</th>\n",
       "      <td>AZ - 02</td>\n",
       "      <td>1902.639513</td>\n",
       "      <td>1993.291452</td>\n",
       "    </tr>\n",
       "    <tr>\n",
       "      <th>4</th>\n",
       "      <td>AZ - 03</td>\n",
       "      <td>1579.282944</td>\n",
       "      <td>1359.331624</td>\n",
       "    </tr>\n",
       "  </tbody>\n",
       "</table>\n",
       "</div>"
      ],
      "text/plain": [
       "  Restaurant Name  Avg_sales_before_presto  Avg_sales_after_presto\n",
       "0         AL - 02              2856.428135             3077.400000\n",
       "1         AL - 04              4979.823353             5303.847458\n",
       "2         AL - 07              2746.289474             2196.630000\n",
       "3         AZ - 02              1902.639513             1993.291452\n",
       "4         AZ - 03              1579.282944             1359.331624"
      ]
     },
     "execution_count": 46,
     "metadata": {},
     "output_type": "execute_result"
    }
   ],
   "source": [
    "df_before_after = pd.DataFrame.from_dict(dict_merge)\n",
    "df_before_after.head(5)"
   ]
  },
  {
   "cell_type": "code",
   "execution_count": 66,
   "metadata": {},
   "outputs": [
    {
     "data": {
      "text/plain": [
       "Restaurant Name            0\n",
       "Avg_sales_before_presto    0\n",
       "Avg_sales_after_presto     0\n",
       "dtype: int64"
      ]
     },
     "execution_count": 66,
     "metadata": {},
     "output_type": "execute_result"
    }
   ],
   "source": [
    "df_before_after.isna().sum()"
   ]
  },
  {
   "cell_type": "code",
   "execution_count": 47,
   "metadata": {},
   "outputs": [],
   "source": [
    "#merge before and after labor costs \n",
    "dict_merge3 = {'Restaurant Name':[],'Avg_labor_cost_before_presto':[],'Avg_labor_cost__after_presto':[]}\n",
    "for bk in dict_laborbefore:\n",
    "    if bk in dict_laborafter:\n",
    "        dict_merge3['Restaurant Name'].append(bk)\n",
    "        dict_merge3['Avg_labor_cost_before_presto'].append(dict_laborbefore[bk])\n",
    "        dict_merge3['Avg_labor_cost__after_presto'].append(dict_laborafter[bk])\n",
    "#dict_merge3"
   ]
  },
  {
   "cell_type": "code",
   "execution_count": 48,
   "metadata": {
    "scrolled": true
   },
   "outputs": [
    {
     "data": {
      "text/html": [
       "<div>\n",
       "<style scoped>\n",
       "    .dataframe tbody tr th:only-of-type {\n",
       "        vertical-align: middle;\n",
       "    }\n",
       "\n",
       "    .dataframe tbody tr th {\n",
       "        vertical-align: top;\n",
       "    }\n",
       "\n",
       "    .dataframe thead th {\n",
       "        text-align: right;\n",
       "    }\n",
       "</style>\n",
       "<table border=\"1\" class=\"dataframe\">\n",
       "  <thead>\n",
       "    <tr style=\"text-align: right;\">\n",
       "      <th></th>\n",
       "      <th>Restaurant Name</th>\n",
       "      <th>Avg_labor_cost_before_presto</th>\n",
       "      <th>Avg_labor_cost__after_presto</th>\n",
       "    </tr>\n",
       "  </thead>\n",
       "  <tbody>\n",
       "    <tr>\n",
       "      <th>0</th>\n",
       "      <td>AL - 02</td>\n",
       "      <td>647.371101</td>\n",
       "      <td>681.541040</td>\n",
       "    </tr>\n",
       "    <tr>\n",
       "      <th>1</th>\n",
       "      <td>AL - 04</td>\n",
       "      <td>933.773473</td>\n",
       "      <td>974.158136</td>\n",
       "    </tr>\n",
       "    <tr>\n",
       "      <th>2</th>\n",
       "      <td>AL - 07</td>\n",
       "      <td>451.024211</td>\n",
       "      <td>332.540833</td>\n",
       "    </tr>\n",
       "    <tr>\n",
       "      <th>3</th>\n",
       "      <td>AZ - 02</td>\n",
       "      <td>477.241187</td>\n",
       "      <td>481.422379</td>\n",
       "    </tr>\n",
       "    <tr>\n",
       "      <th>4</th>\n",
       "      <td>AZ - 03</td>\n",
       "      <td>353.805806</td>\n",
       "      <td>393.165485</td>\n",
       "    </tr>\n",
       "  </tbody>\n",
       "</table>\n",
       "</div>"
      ],
      "text/plain": [
       "  Restaurant Name  Avg_labor_cost_before_presto  Avg_labor_cost__after_presto\n",
       "0         AL - 02                    647.371101                    681.541040\n",
       "1         AL - 04                    933.773473                    974.158136\n",
       "2         AL - 07                    451.024211                    332.540833\n",
       "3         AZ - 02                    477.241187                    481.422379\n",
       "4         AZ - 03                    353.805806                    393.165485"
      ]
     },
     "execution_count": 48,
     "metadata": {},
     "output_type": "execute_result"
    }
   ],
   "source": [
    "df_laborbefore_after = pd.DataFrame.from_dict(dict_merge3)\n",
    "df_laborbefore_after.head(5)"
   ]
  },
  {
   "cell_type": "code",
   "execution_count": 49,
   "metadata": {},
   "outputs": [
    {
     "data": {
      "text/html": [
       "<div>\n",
       "<style scoped>\n",
       "    .dataframe tbody tr th:only-of-type {\n",
       "        vertical-align: middle;\n",
       "    }\n",
       "\n",
       "    .dataframe tbody tr th {\n",
       "        vertical-align: top;\n",
       "    }\n",
       "\n",
       "    .dataframe thead th {\n",
       "        text-align: right;\n",
       "    }\n",
       "</style>\n",
       "<table border=\"1\" class=\"dataframe\">\n",
       "  <thead>\n",
       "    <tr style=\"text-align: right;\">\n",
       "      <th></th>\n",
       "      <th>Restaurant Name</th>\n",
       "      <th>Date</th>\n",
       "      <th>Net Sales</th>\n",
       "      <th>POS Checks</th>\n",
       "      <th>Labor Cost</th>\n",
       "      <th>Game Revenue</th>\n",
       "      <th>Go Live Date</th>\n",
       "      <th>Franchise/Owner</th>\n",
       "      <th>State</th>\n",
       "      <th>Presto Devices Installed</th>\n",
       "      <th>Month</th>\n",
       "      <th>Year</th>\n",
       "    </tr>\n",
       "  </thead>\n",
       "  <tbody>\n",
       "    <tr>\n",
       "      <th>3155</th>\n",
       "      <td>AL - 08</td>\n",
       "      <td>2014-01-01</td>\n",
       "      <td>1893.0</td>\n",
       "      <td>65</td>\n",
       "      <td>489.46</td>\n",
       "      <td>8.416667</td>\n",
       "      <td>2013-11-18</td>\n",
       "      <td>Southern Group</td>\n",
       "      <td>AL</td>\n",
       "      <td>53.0</td>\n",
       "      <td>Jan</td>\n",
       "      <td>2014</td>\n",
       "    </tr>\n",
       "    <tr>\n",
       "      <th>3156</th>\n",
       "      <td>AL - 08</td>\n",
       "      <td>2014-01-02</td>\n",
       "      <td>2513.0</td>\n",
       "      <td>101</td>\n",
       "      <td>570.69</td>\n",
       "      <td>11.416667</td>\n",
       "      <td>2013-11-18</td>\n",
       "      <td>Southern Group</td>\n",
       "      <td>AL</td>\n",
       "      <td>53.0</td>\n",
       "      <td>Jan</td>\n",
       "      <td>2014</td>\n",
       "    </tr>\n",
       "    <tr>\n",
       "      <th>3157</th>\n",
       "      <td>AL - 08</td>\n",
       "      <td>2014-01-03</td>\n",
       "      <td>3071.0</td>\n",
       "      <td>118</td>\n",
       "      <td>757.16</td>\n",
       "      <td>12.833333</td>\n",
       "      <td>2013-11-18</td>\n",
       "      <td>Southern Group</td>\n",
       "      <td>AL</td>\n",
       "      <td>53.0</td>\n",
       "      <td>Jan</td>\n",
       "      <td>2014</td>\n",
       "    </tr>\n",
       "  </tbody>\n",
       "</table>\n",
       "</div>"
      ],
      "text/plain": [
       "     Restaurant Name       Date  Net Sales  POS Checks  Labor Cost  \\\n",
       "3155         AL - 08 2014-01-01     1893.0          65      489.46   \n",
       "3156         AL - 08 2014-01-02     2513.0         101      570.69   \n",
       "3157         AL - 08 2014-01-03     3071.0         118      757.16   \n",
       "\n",
       "      Game Revenue Go Live Date Franchise/Owner State  \\\n",
       "3155      8.416667   2013-11-18  Southern Group    AL   \n",
       "3156     11.416667   2013-11-18  Southern Group    AL   \n",
       "3157     12.833333   2013-11-18  Southern Group    AL   \n",
       "\n",
       "      Presto Devices Installed Month  Year  \n",
       "3155                      53.0   Jan  2014  \n",
       "3156                      53.0   Jan  2014  \n",
       "3157                      53.0   Jan  2014  "
      ]
     },
     "execution_count": 49,
     "metadata": {},
     "output_type": "execute_result"
    }
   ],
   "source": [
    "# All the Restaurant Name where the devices were installed before 2013 so that they form a \n",
    "#different control group \n",
    "df6 = df3[(df3['Go Live Date'] < '2014-01-01')]\n",
    "df6.head(3)"
   ]
  },
  {
   "cell_type": "code",
   "execution_count": 50,
   "metadata": {},
   "outputs": [
    {
     "data": {
      "text/plain": [
       "array(['AL - 08', 'AZ - 01', 'AZ - 10', 'Ca - 03', 'Ca - 08', 'Ca - 09',\n",
       "       'Ca - 10', 'Ca - 14', 'Ca - 17', 'Ca - 21', 'FL - 03', 'FL - 04',\n",
       "       'FL - 07', 'FL - 09', 'FL - 11', 'FL - 12', 'OK- 01', 'OR - 01',\n",
       "       'OR - 02', 'TX - 15', 'TX - 17', 'TX - 18', 'TX - 19', 'TX - 20',\n",
       "       'TX - 21', 'TX - 22', 'TX - 25', 'TX - 26', 'TX - 27', 'WA - 06'],\n",
       "      dtype=object)"
      ]
     },
     "execution_count": 50,
     "metadata": {},
     "output_type": "execute_result"
    }
   ],
   "source": [
    "df6['Restaurant Name'].unique()"
   ]
  },
  {
   "cell_type": "code",
   "execution_count": 51,
   "metadata": {},
   "outputs": [],
   "source": [
    "# List of resturants that had devices installed before 2014 \n",
    "devices_before2014 = df6.groupby('Restaurant Name')\n",
    "dict_devbefore={}\n",
    "for key in devices_before2014.groups.keys():\n",
    "    total_days = devices_before2014.get_group(key)['Date'].max() - devices_before2014.get_group(key)['Date'].min()\n",
    "    days = total_days.days\n",
    "    #print(days)\n",
    "    total_sales = devices_before2014.get_group(key)['Net Sales'].sum()\n",
    "    dict_devbefore[key] = total_sales/days\n",
    "    \n",
    "    \n",
    "#dict_devbefore"
   ]
  },
  {
   "cell_type": "code",
   "execution_count": 52,
   "metadata": {},
   "outputs": [],
   "source": [
    "dict_merge2 = {'Restaurant Name':[],'Avg_sales_presto_2013':[]}\n",
    "for bk in dict_devbefore:\n",
    "    dict_merge2['Restaurant Name'].append(bk)\n",
    "    dict_merge2['Avg_sales_presto_2013'].append(dict_devbefore[bk])\n",
    "      \n",
    "#dict_merge2"
   ]
  },
  {
   "cell_type": "code",
   "execution_count": 53,
   "metadata": {},
   "outputs": [
    {
     "data": {
      "text/html": [
       "<div>\n",
       "<style scoped>\n",
       "    .dataframe tbody tr th:only-of-type {\n",
       "        vertical-align: middle;\n",
       "    }\n",
       "\n",
       "    .dataframe tbody tr th {\n",
       "        vertical-align: top;\n",
       "    }\n",
       "\n",
       "    .dataframe thead th {\n",
       "        text-align: right;\n",
       "    }\n",
       "</style>\n",
       "<table border=\"1\" class=\"dataframe\">\n",
       "  <thead>\n",
       "    <tr style=\"text-align: right;\">\n",
       "      <th></th>\n",
       "      <th>Restaurant Name</th>\n",
       "      <th>Avg_sales_presto_2013</th>\n",
       "    </tr>\n",
       "  </thead>\n",
       "  <tbody>\n",
       "    <tr>\n",
       "      <th>0</th>\n",
       "      <td>AL - 08</td>\n",
       "      <td>2660.183628</td>\n",
       "    </tr>\n",
       "    <tr>\n",
       "      <th>1</th>\n",
       "      <td>AZ - 01</td>\n",
       "      <td>4319.136261</td>\n",
       "    </tr>\n",
       "    <tr>\n",
       "      <th>2</th>\n",
       "      <td>AZ - 10</td>\n",
       "      <td>3383.152412</td>\n",
       "    </tr>\n",
       "  </tbody>\n",
       "</table>\n",
       "</div>"
      ],
      "text/plain": [
       "  Restaurant Name  Avg_sales_presto_2013\n",
       "0         AL - 08            2660.183628\n",
       "1         AZ - 01            4319.136261\n",
       "2         AZ - 10            3383.152412"
      ]
     },
     "execution_count": 53,
     "metadata": {},
     "output_type": "execute_result"
    }
   ],
   "source": [
    "df_devbefore_2014 = pd.DataFrame.from_dict(dict_merge2)\n",
    "df_devbefore_2014.head(3)"
   ]
  },
  {
   "cell_type": "code",
   "execution_count": 54,
   "metadata": {},
   "outputs": [
    {
     "data": {
      "text/plain": [
       "(12274, 12)"
      ]
     },
     "execution_count": 54,
     "metadata": {},
     "output_type": "execute_result"
    }
   ],
   "source": [
    "df6.shape"
   ]
  },
  {
   "cell_type": "code",
   "execution_count": 55,
   "metadata": {},
   "outputs": [
    {
     "data": {
      "text/html": [
       "<div>\n",
       "<style scoped>\n",
       "    .dataframe tbody tr th:only-of-type {\n",
       "        vertical-align: middle;\n",
       "    }\n",
       "\n",
       "    .dataframe tbody tr th {\n",
       "        vertical-align: top;\n",
       "    }\n",
       "\n",
       "    .dataframe thead th {\n",
       "        text-align: right;\n",
       "    }\n",
       "</style>\n",
       "<table border=\"1\" class=\"dataframe\">\n",
       "  <thead>\n",
       "    <tr style=\"text-align: right;\">\n",
       "      <th></th>\n",
       "      <th>Restaurant Name</th>\n",
       "      <th>Date</th>\n",
       "      <th>Net Sales</th>\n",
       "      <th>POS Checks</th>\n",
       "      <th>Labor Cost</th>\n",
       "      <th>Game Revenue</th>\n",
       "      <th>Go Live Date</th>\n",
       "      <th>Franchise/Owner</th>\n",
       "      <th>State</th>\n",
       "      <th>Presto Devices Installed</th>\n",
       "      <th>Month</th>\n",
       "      <th>Year</th>\n",
       "    </tr>\n",
       "  </thead>\n",
       "  <tbody>\n",
       "    <tr>\n",
       "      <th>0</th>\n",
       "      <td>AL - 01</td>\n",
       "      <td>2014-01-01</td>\n",
       "      <td>1687.0</td>\n",
       "      <td>94</td>\n",
       "      <td>609.61</td>\n",
       "      <td>NaN</td>\n",
       "      <td>NaT</td>\n",
       "      <td>Southern Group</td>\n",
       "      <td>AL</td>\n",
       "      <td>NaN</td>\n",
       "      <td>Jan</td>\n",
       "      <td>2014</td>\n",
       "    </tr>\n",
       "    <tr>\n",
       "      <th>1</th>\n",
       "      <td>AL - 01</td>\n",
       "      <td>2014-01-02</td>\n",
       "      <td>2182.0</td>\n",
       "      <td>116</td>\n",
       "      <td>577.59</td>\n",
       "      <td>NaN</td>\n",
       "      <td>NaT</td>\n",
       "      <td>Southern Group</td>\n",
       "      <td>AL</td>\n",
       "      <td>NaN</td>\n",
       "      <td>Jan</td>\n",
       "      <td>2014</td>\n",
       "    </tr>\n",
       "  </tbody>\n",
       "</table>\n",
       "</div>"
      ],
      "text/plain": [
       "  Restaurant Name       Date  Net Sales  POS Checks  Labor Cost  Game Revenue  \\\n",
       "0         AL - 01 2014-01-01     1687.0          94      609.61           NaN   \n",
       "1         AL - 01 2014-01-02     2182.0         116      577.59           NaN   \n",
       "\n",
       "  Go Live Date Franchise/Owner State  Presto Devices Installed Month  Year  \n",
       "0          NaT  Southern Group    AL                       NaN   Jan  2014  \n",
       "1          NaT  Southern Group    AL                       NaN   Jan  2014  "
      ]
     },
     "execution_count": 55,
     "metadata": {},
     "output_type": "execute_result"
    }
   ],
   "source": [
    "# All the Restaurant Name where the devices were  not installed at all \n",
    "\n",
    "df7 = df3[df3['Go Live Date'].isnull()]\n",
    "df7.head(2)"
   ]
  },
  {
   "cell_type": "code",
   "execution_count": 67,
   "metadata": {},
   "outputs": [
    {
     "data": {
      "text/plain": [
       "array(['AL - 01', 'AL - 03', 'AL - 05', 'AL - 06', 'AZ - 04', 'AZ - 05',\n",
       "       'AZ - 06', 'AZ - 08', 'AZ - 11', 'AZ - 14', 'Ca - 04', 'Ca - 05',\n",
       "       'Ca - 07', 'Ca - 12', 'Ca - 16', 'Ca - 18', 'Ca - 19', 'FL - 02',\n",
       "       'FL - 05', 'FL - 06', 'FL - 10', 'OK- 03', 'OK- 07', 'OR - 03',\n",
       "       'TX - 01', 'TX - 02', 'TX - 03', 'TX - 16', 'TX - 23', 'TX - 24',\n",
       "       'TX - 28', 'WA - 02', 'WA - 03'], dtype=object)"
      ]
     },
     "execution_count": 67,
     "metadata": {},
     "output_type": "execute_result"
    }
   ],
   "source": [
    "df7['Restaurant Name'].unique()"
   ]
  },
  {
   "cell_type": "code",
   "execution_count": 56,
   "metadata": {},
   "outputs": [
    {
     "data": {
      "text/plain": [
       "(13374, 12)"
      ]
     },
     "execution_count": 56,
     "metadata": {},
     "output_type": "execute_result"
    }
   ],
   "source": [
    "df7.shape"
   ]
  },
  {
   "cell_type": "code",
   "execution_count": 57,
   "metadata": {
    "scrolled": true
   },
   "outputs": [],
   "source": [
    "# All the Restaurant Name where the devices were  not installed at all \n",
    "nodevices = df7.groupby('Restaurant Name')\n",
    "dict_nodev={}\n",
    "for key in nodevices.groups.keys():\n",
    "    total_days = nodevices.get_group(key)['Date'].max() - nodevices.get_group(key)['Date'].min()\n",
    "    days = total_days.days\n",
    "    #print(days)\n",
    "    total_sales = nodevices.get_group(key)['Net Sales'].sum()\n",
    "    dict_nodev[key] = total_sales/days\n",
    "    \n",
    "    \n",
    "#dict_nodev"
   ]
  },
  {
   "cell_type": "code",
   "execution_count": 58,
   "metadata": {},
   "outputs": [],
   "source": [
    "nodevices = df7.groupby('Restaurant Name')\n",
    "dict_labornodev={}\n",
    "for key in nodevices.groups.keys():\n",
    "    total_days = nodevices.get_group(key)['Date'].max() - nodevices.get_group(key)['Date'].min()\n",
    "    days = total_days.days\n",
    "    #print(days)\n",
    "    labor_cost = nodevices.get_group(key)['Labor Cost'].sum()\n",
    "    dict_labornodev[key] = labor_cost/days\n",
    "    \n",
    "    \n",
    "#dict_labornodev"
   ]
  },
  {
   "cell_type": "code",
   "execution_count": 59,
   "metadata": {},
   "outputs": [],
   "source": [
    "dict_merge1 = {'Restaurant Name':[],'Avg_sales_no_presto':[]}\n",
    "for bk in dict_nodev:\n",
    "    dict_merge1['Restaurant Name'].append(bk)\n",
    "    dict_merge1['Avg_sales_no_presto'].append(dict_nodev[bk])\n",
    "      \n",
    "#dict_merge1"
   ]
  },
  {
   "cell_type": "code",
   "execution_count": 60,
   "metadata": {},
   "outputs": [],
   "source": [
    "dict_merge4 = {'Restaurant Name':[],'Avg_Labor_cost_no_presto':[]}\n",
    "for bk in dict_labornodev:\n",
    "    dict_merge4['Restaurant Name'].append(bk)\n",
    "    dict_merge4['Avg_Labor_cost_no_presto'].append(dict_labornodev[bk])\n",
    "      \n",
    "#dict_merge4"
   ]
  },
  {
   "cell_type": "code",
   "execution_count": 61,
   "metadata": {},
   "outputs": [
    {
     "data": {
      "text/html": [
       "<div>\n",
       "<style scoped>\n",
       "    .dataframe tbody tr th:only-of-type {\n",
       "        vertical-align: middle;\n",
       "    }\n",
       "\n",
       "    .dataframe tbody tr th {\n",
       "        vertical-align: top;\n",
       "    }\n",
       "\n",
       "    .dataframe thead th {\n",
       "        text-align: right;\n",
       "    }\n",
       "</style>\n",
       "<table border=\"1\" class=\"dataframe\">\n",
       "  <thead>\n",
       "    <tr style=\"text-align: right;\">\n",
       "      <th></th>\n",
       "      <th>Restaurant Name</th>\n",
       "      <th>Avg_sales_no_presto</th>\n",
       "    </tr>\n",
       "  </thead>\n",
       "  <tbody>\n",
       "    <tr>\n",
       "      <th>0</th>\n",
       "      <td>AL - 01</td>\n",
       "      <td>2057.159292</td>\n",
       "    </tr>\n",
       "    <tr>\n",
       "      <th>1</th>\n",
       "      <td>AL - 03</td>\n",
       "      <td>5582.415929</td>\n",
       "    </tr>\n",
       "    <tr>\n",
       "      <th>2</th>\n",
       "      <td>AL - 05</td>\n",
       "      <td>3775.234513</td>\n",
       "    </tr>\n",
       "  </tbody>\n",
       "</table>\n",
       "</div>"
      ],
      "text/plain": [
       "  Restaurant Name  Avg_sales_no_presto\n",
       "0         AL - 01          2057.159292\n",
       "1         AL - 03          5582.415929\n",
       "2         AL - 05          3775.234513"
      ]
     },
     "execution_count": 61,
     "metadata": {},
     "output_type": "execute_result"
    }
   ],
   "source": [
    "df_nopresto = pd.DataFrame.from_dict(dict_merge1)\n",
    "df_nopresto.head(3)"
   ]
  },
  {
   "cell_type": "code",
   "execution_count": 62,
   "metadata": {},
   "outputs": [
    {
     "data": {
      "text/html": [
       "<div>\n",
       "<style scoped>\n",
       "    .dataframe tbody tr th:only-of-type {\n",
       "        vertical-align: middle;\n",
       "    }\n",
       "\n",
       "    .dataframe tbody tr th {\n",
       "        vertical-align: top;\n",
       "    }\n",
       "\n",
       "    .dataframe thead th {\n",
       "        text-align: right;\n",
       "    }\n",
       "</style>\n",
       "<table border=\"1\" class=\"dataframe\">\n",
       "  <thead>\n",
       "    <tr style=\"text-align: right;\">\n",
       "      <th></th>\n",
       "      <th>Restaurant Name</th>\n",
       "      <th>Avg_Labor_cost_no_presto</th>\n",
       "    </tr>\n",
       "  </thead>\n",
       "  <tbody>\n",
       "    <tr>\n",
       "      <th>0</th>\n",
       "      <td>AL - 01</td>\n",
       "      <td>522.350553</td>\n",
       "    </tr>\n",
       "    <tr>\n",
       "      <th>1</th>\n",
       "      <td>AL - 03</td>\n",
       "      <td>1025.260088</td>\n",
       "    </tr>\n",
       "    <tr>\n",
       "      <th>2</th>\n",
       "      <td>AL - 05</td>\n",
       "      <td>709.694491</td>\n",
       "    </tr>\n",
       "  </tbody>\n",
       "</table>\n",
       "</div>"
      ],
      "text/plain": [
       "  Restaurant Name  Avg_Labor_cost_no_presto\n",
       "0         AL - 01                522.350553\n",
       "1         AL - 03               1025.260088\n",
       "2         AL - 05                709.694491"
      ]
     },
     "execution_count": 62,
     "metadata": {},
     "output_type": "execute_result"
    }
   ],
   "source": [
    "df_nopresto_laborcost = pd.DataFrame.from_dict(dict_merge4)\n",
    "df_nopresto_laborcost.head(3)"
   ]
  },
  {
   "cell_type": "code",
   "execution_count": 63,
   "metadata": {},
   "outputs": [
    {
     "data": {
      "text/html": [
       "<div>\n",
       "<style scoped>\n",
       "    .dataframe tbody tr th:only-of-type {\n",
       "        vertical-align: middle;\n",
       "    }\n",
       "\n",
       "    .dataframe tbody tr th {\n",
       "        vertical-align: top;\n",
       "    }\n",
       "\n",
       "    .dataframe thead th {\n",
       "        text-align: right;\n",
       "    }\n",
       "</style>\n",
       "<table border=\"1\" class=\"dataframe\">\n",
       "  <thead>\n",
       "    <tr style=\"text-align: right;\">\n",
       "      <th></th>\n",
       "      <th>Restaurant Name</th>\n",
       "      <th>Date</th>\n",
       "      <th>Net Sales</th>\n",
       "      <th>POS Checks</th>\n",
       "      <th>Labor Cost</th>\n",
       "      <th>Game Revenue</th>\n",
       "      <th>Go Live Date</th>\n",
       "      <th>Franchise/Owner</th>\n",
       "      <th>State</th>\n",
       "      <th>Presto Devices Installed</th>\n",
       "      <th>Month</th>\n",
       "      <th>Year</th>\n",
       "      <th>Avg_sales_before_presto</th>\n",
       "      <th>Avg_sales_after_presto</th>\n",
       "    </tr>\n",
       "  </thead>\n",
       "  <tbody>\n",
       "    <tr>\n",
       "      <th>0</th>\n",
       "      <td>AL - 01</td>\n",
       "      <td>2014-01-01</td>\n",
       "      <td>1687.0</td>\n",
       "      <td>94</td>\n",
       "      <td>609.61</td>\n",
       "      <td>NaN</td>\n",
       "      <td>NaT</td>\n",
       "      <td>Southern Group</td>\n",
       "      <td>AL</td>\n",
       "      <td>NaN</td>\n",
       "      <td>Jan</td>\n",
       "      <td>2014</td>\n",
       "      <td>NaN</td>\n",
       "      <td>NaN</td>\n",
       "    </tr>\n",
       "    <tr>\n",
       "      <th>1</th>\n",
       "      <td>AL - 01</td>\n",
       "      <td>2014-01-02</td>\n",
       "      <td>2182.0</td>\n",
       "      <td>116</td>\n",
       "      <td>577.59</td>\n",
       "      <td>NaN</td>\n",
       "      <td>NaT</td>\n",
       "      <td>Southern Group</td>\n",
       "      <td>AL</td>\n",
       "      <td>NaN</td>\n",
       "      <td>Jan</td>\n",
       "      <td>2014</td>\n",
       "      <td>NaN</td>\n",
       "      <td>NaN</td>\n",
       "    </tr>\n",
       "    <tr>\n",
       "      <th>2</th>\n",
       "      <td>AL - 01</td>\n",
       "      <td>2014-01-03</td>\n",
       "      <td>2772.0</td>\n",
       "      <td>145</td>\n",
       "      <td>717.09</td>\n",
       "      <td>NaN</td>\n",
       "      <td>NaT</td>\n",
       "      <td>Southern Group</td>\n",
       "      <td>AL</td>\n",
       "      <td>NaN</td>\n",
       "      <td>Jan</td>\n",
       "      <td>2014</td>\n",
       "      <td>NaN</td>\n",
       "      <td>NaN</td>\n",
       "    </tr>\n",
       "  </tbody>\n",
       "</table>\n",
       "</div>"
      ],
      "text/plain": [
       "  Restaurant Name       Date  Net Sales  POS Checks  Labor Cost  Game Revenue  \\\n",
       "0         AL - 01 2014-01-01     1687.0          94      609.61           NaN   \n",
       "1         AL - 01 2014-01-02     2182.0         116      577.59           NaN   \n",
       "2         AL - 01 2014-01-03     2772.0         145      717.09           NaN   \n",
       "\n",
       "  Go Live Date Franchise/Owner State  Presto Devices Installed Month  Year  \\\n",
       "0          NaT  Southern Group    AL                       NaN   Jan  2014   \n",
       "1          NaT  Southern Group    AL                       NaN   Jan  2014   \n",
       "2          NaT  Southern Group    AL                       NaN   Jan  2014   \n",
       "\n",
       "   Avg_sales_before_presto  Avg_sales_after_presto  \n",
       "0                      NaN                     NaN  \n",
       "1                      NaN                     NaN  \n",
       "2                      NaN                     NaN  "
      ]
     },
     "execution_count": 63,
     "metadata": {},
     "output_type": "execute_result"
    }
   ],
   "source": [
    "#Merge df3 dataset with the Total Sales when never had the device\n",
    "df9 = pd.merge(df3,df_before_after, on='Restaurant Name',how='left' )\n",
    "df9.head(3)"
   ]
  },
  {
   "cell_type": "code",
   "execution_count": 64,
   "metadata": {},
   "outputs": [],
   "source": [
    "df10 = pd.merge(df9,df_nopresto, on='Restaurant Name',how='left' )"
   ]
  },
  {
   "cell_type": "code",
   "execution_count": 65,
   "metadata": {},
   "outputs": [
    {
     "data": {
      "text/html": [
       "<div>\n",
       "<style scoped>\n",
       "    .dataframe tbody tr th:only-of-type {\n",
       "        vertical-align: middle;\n",
       "    }\n",
       "\n",
       "    .dataframe tbody tr th {\n",
       "        vertical-align: top;\n",
       "    }\n",
       "\n",
       "    .dataframe thead th {\n",
       "        text-align: right;\n",
       "    }\n",
       "</style>\n",
       "<table border=\"1\" class=\"dataframe\">\n",
       "  <thead>\n",
       "    <tr style=\"text-align: right;\">\n",
       "      <th></th>\n",
       "      <th>Restaurant Name</th>\n",
       "      <th>Date</th>\n",
       "      <th>Net Sales</th>\n",
       "      <th>POS Checks</th>\n",
       "      <th>Labor Cost</th>\n",
       "      <th>Game Revenue</th>\n",
       "      <th>Go Live Date</th>\n",
       "      <th>Franchise/Owner</th>\n",
       "      <th>State</th>\n",
       "      <th>Presto Devices Installed</th>\n",
       "      <th>Month</th>\n",
       "      <th>Year</th>\n",
       "      <th>Avg_sales_before_presto</th>\n",
       "      <th>Avg_sales_after_presto</th>\n",
       "      <th>Avg_sales_no_presto</th>\n",
       "    </tr>\n",
       "  </thead>\n",
       "  <tbody>\n",
       "    <tr>\n",
       "      <th>0</th>\n",
       "      <td>AL - 01</td>\n",
       "      <td>2014-01-01</td>\n",
       "      <td>1687.0</td>\n",
       "      <td>94</td>\n",
       "      <td>609.61</td>\n",
       "      <td>NaN</td>\n",
       "      <td>NaT</td>\n",
       "      <td>Southern Group</td>\n",
       "      <td>AL</td>\n",
       "      <td>NaN</td>\n",
       "      <td>Jan</td>\n",
       "      <td>2014</td>\n",
       "      <td>NaN</td>\n",
       "      <td>NaN</td>\n",
       "      <td>2057.159292</td>\n",
       "    </tr>\n",
       "    <tr>\n",
       "      <th>1</th>\n",
       "      <td>AL - 01</td>\n",
       "      <td>2014-01-02</td>\n",
       "      <td>2182.0</td>\n",
       "      <td>116</td>\n",
       "      <td>577.59</td>\n",
       "      <td>NaN</td>\n",
       "      <td>NaT</td>\n",
       "      <td>Southern Group</td>\n",
       "      <td>AL</td>\n",
       "      <td>NaN</td>\n",
       "      <td>Jan</td>\n",
       "      <td>2014</td>\n",
       "      <td>NaN</td>\n",
       "      <td>NaN</td>\n",
       "      <td>2057.159292</td>\n",
       "    </tr>\n",
       "    <tr>\n",
       "      <th>2</th>\n",
       "      <td>AL - 01</td>\n",
       "      <td>2014-01-03</td>\n",
       "      <td>2772.0</td>\n",
       "      <td>145</td>\n",
       "      <td>717.09</td>\n",
       "      <td>NaN</td>\n",
       "      <td>NaT</td>\n",
       "      <td>Southern Group</td>\n",
       "      <td>AL</td>\n",
       "      <td>NaN</td>\n",
       "      <td>Jan</td>\n",
       "      <td>2014</td>\n",
       "      <td>NaN</td>\n",
       "      <td>NaN</td>\n",
       "      <td>2057.159292</td>\n",
       "    </tr>\n",
       "  </tbody>\n",
       "</table>\n",
       "</div>"
      ],
      "text/plain": [
       "  Restaurant Name       Date  Net Sales  POS Checks  Labor Cost  Game Revenue  \\\n",
       "0         AL - 01 2014-01-01     1687.0          94      609.61           NaN   \n",
       "1         AL - 01 2014-01-02     2182.0         116      577.59           NaN   \n",
       "2         AL - 01 2014-01-03     2772.0         145      717.09           NaN   \n",
       "\n",
       "  Go Live Date Franchise/Owner State  Presto Devices Installed Month  Year  \\\n",
       "0          NaT  Southern Group    AL                       NaN   Jan  2014   \n",
       "1          NaT  Southern Group    AL                       NaN   Jan  2014   \n",
       "2          NaT  Southern Group    AL                       NaN   Jan  2014   \n",
       "\n",
       "   Avg_sales_before_presto  Avg_sales_after_presto  Avg_sales_no_presto  \n",
       "0                      NaN                     NaN          2057.159292  \n",
       "1                      NaN                     NaN          2057.159292  \n",
       "2                      NaN                     NaN          2057.159292  "
      ]
     },
     "execution_count": 65,
     "metadata": {},
     "output_type": "execute_result"
    }
   ],
   "source": [
    "df10.head(3)"
   ]
  },
  {
   "cell_type": "code",
   "execution_count": 1015,
   "metadata": {},
   "outputs": [
    {
     "data": {
      "text/html": [
       "<div>\n",
       "<style scoped>\n",
       "    .dataframe tbody tr th:only-of-type {\n",
       "        vertical-align: middle;\n",
       "    }\n",
       "\n",
       "    .dataframe tbody tr th {\n",
       "        vertical-align: top;\n",
       "    }\n",
       "\n",
       "    .dataframe thead th {\n",
       "        text-align: right;\n",
       "    }\n",
       "</style>\n",
       "<table border=\"1\" class=\"dataframe\">\n",
       "  <thead>\n",
       "    <tr style=\"text-align: right;\">\n",
       "      <th></th>\n",
       "      <th>Restaurant Name</th>\n",
       "      <th>Date</th>\n",
       "      <th>Net Sales</th>\n",
       "      <th>POS Checks</th>\n",
       "      <th>Labor Cost</th>\n",
       "      <th>Game Revenue</th>\n",
       "      <th>Go Live Date</th>\n",
       "      <th>Franchise/Owner</th>\n",
       "      <th>State</th>\n",
       "      <th>Presto Devices Installed</th>\n",
       "      <th>Month</th>\n",
       "      <th>Year</th>\n",
       "      <th>Avg_sales_before_presto</th>\n",
       "      <th>Avg_sales_after_presto</th>\n",
       "      <th>Avg_sales_no_presto</th>\n",
       "      <th>Difference</th>\n",
       "    </tr>\n",
       "  </thead>\n",
       "  <tbody>\n",
       "    <tr>\n",
       "      <th>0</th>\n",
       "      <td>AL - 01</td>\n",
       "      <td>2014-01-01</td>\n",
       "      <td>1687.0</td>\n",
       "      <td>94</td>\n",
       "      <td>609.61</td>\n",
       "      <td>NaN</td>\n",
       "      <td>NaT</td>\n",
       "      <td>Southern Group</td>\n",
       "      <td>AL</td>\n",
       "      <td>NaN</td>\n",
       "      <td>Jan</td>\n",
       "      <td>2014</td>\n",
       "      <td>NaN</td>\n",
       "      <td>NaN</td>\n",
       "      <td>2057.159292</td>\n",
       "      <td>1077.39</td>\n",
       "    </tr>\n",
       "    <tr>\n",
       "      <th>1</th>\n",
       "      <td>AL - 01</td>\n",
       "      <td>2014-01-02</td>\n",
       "      <td>2182.0</td>\n",
       "      <td>116</td>\n",
       "      <td>577.59</td>\n",
       "      <td>NaN</td>\n",
       "      <td>NaT</td>\n",
       "      <td>Southern Group</td>\n",
       "      <td>AL</td>\n",
       "      <td>NaN</td>\n",
       "      <td>Jan</td>\n",
       "      <td>2014</td>\n",
       "      <td>NaN</td>\n",
       "      <td>NaN</td>\n",
       "      <td>2057.159292</td>\n",
       "      <td>1604.41</td>\n",
       "    </tr>\n",
       "  </tbody>\n",
       "</table>\n",
       "</div>"
      ],
      "text/plain": [
       "  Restaurant Name       Date  Net Sales  POS Checks  Labor Cost  Game Revenue  \\\n",
       "0         AL - 01 2014-01-01     1687.0          94      609.61           NaN   \n",
       "1         AL - 01 2014-01-02     2182.0         116      577.59           NaN   \n",
       "\n",
       "  Go Live Date Franchise/Owner State  Presto Devices Installed Month  Year  \\\n",
       "0          NaT  Southern Group    AL                       NaN   Jan  2014   \n",
       "1          NaT  Southern Group    AL                       NaN   Jan  2014   \n",
       "\n",
       "   Avg_sales_before_presto  Avg_sales_after_presto  Avg_sales_no_presto  \\\n",
       "0                      NaN                     NaN          2057.159292   \n",
       "1                      NaN                     NaN          2057.159292   \n",
       "\n",
       "   Difference  \n",
       "0     1077.39  \n",
       "1     1604.41  "
      ]
     },
     "execution_count": 1015,
     "metadata": {},
     "output_type": "execute_result"
    }
   ],
   "source": [
    "df10['Difference']= ((df10['Net Sales']+ df10.fillna(0)['Game Revenue']) - (df10['Labor Cost']))\n",
    "df10.head(2)"
   ]
  },
  {
   "cell_type": "code",
   "execution_count": 1016,
   "metadata": {},
   "outputs": [
    {
     "data": {
      "text/plain": [
       "(43063, 16)"
      ]
     },
     "execution_count": 1016,
     "metadata": {},
     "output_type": "execute_result"
    }
   ],
   "source": [
    "df10.shape"
   ]
  },
  {
   "cell_type": "code",
   "execution_count": 1017,
   "metadata": {},
   "outputs": [
    {
     "data": {
      "text/html": [
       "<div>\n",
       "<style scoped>\n",
       "    .dataframe tbody tr th:only-of-type {\n",
       "        vertical-align: middle;\n",
       "    }\n",
       "\n",
       "    .dataframe tbody tr th {\n",
       "        vertical-align: top;\n",
       "    }\n",
       "\n",
       "    .dataframe thead th {\n",
       "        text-align: right;\n",
       "    }\n",
       "</style>\n",
       "<table border=\"1\" class=\"dataframe\">\n",
       "  <thead>\n",
       "    <tr style=\"text-align: right;\">\n",
       "      <th></th>\n",
       "      <th>Restaurant Name</th>\n",
       "      <th>Date</th>\n",
       "      <th>Net Sales</th>\n",
       "      <th>POS Checks</th>\n",
       "      <th>Labor Cost</th>\n",
       "      <th>Game Revenue</th>\n",
       "      <th>Go Live Date</th>\n",
       "      <th>Franchise/Owner</th>\n",
       "      <th>State</th>\n",
       "      <th>Presto Devices Installed</th>\n",
       "      <th>Month</th>\n",
       "      <th>Year</th>\n",
       "      <th>Avg_sales_before_presto</th>\n",
       "      <th>Avg_sales_after_presto</th>\n",
       "      <th>Avg_sales_no_presto</th>\n",
       "      <th>Difference</th>\n",
       "      <th>Avg_sales_presto_2013</th>\n",
       "    </tr>\n",
       "  </thead>\n",
       "  <tbody>\n",
       "    <tr>\n",
       "      <th>0</th>\n",
       "      <td>AL - 01</td>\n",
       "      <td>2014-01-01</td>\n",
       "      <td>1687.0</td>\n",
       "      <td>94</td>\n",
       "      <td>609.61</td>\n",
       "      <td>NaN</td>\n",
       "      <td>NaT</td>\n",
       "      <td>Southern Group</td>\n",
       "      <td>AL</td>\n",
       "      <td>NaN</td>\n",
       "      <td>Jan</td>\n",
       "      <td>2014</td>\n",
       "      <td>NaN</td>\n",
       "      <td>NaN</td>\n",
       "      <td>2057.159292</td>\n",
       "      <td>1077.39</td>\n",
       "      <td>NaN</td>\n",
       "    </tr>\n",
       "    <tr>\n",
       "      <th>1</th>\n",
       "      <td>AL - 01</td>\n",
       "      <td>2014-01-02</td>\n",
       "      <td>2182.0</td>\n",
       "      <td>116</td>\n",
       "      <td>577.59</td>\n",
       "      <td>NaN</td>\n",
       "      <td>NaT</td>\n",
       "      <td>Southern Group</td>\n",
       "      <td>AL</td>\n",
       "      <td>NaN</td>\n",
       "      <td>Jan</td>\n",
       "      <td>2014</td>\n",
       "      <td>NaN</td>\n",
       "      <td>NaN</td>\n",
       "      <td>2057.159292</td>\n",
       "      <td>1604.41</td>\n",
       "      <td>NaN</td>\n",
       "    </tr>\n",
       "    <tr>\n",
       "      <th>2</th>\n",
       "      <td>AL - 01</td>\n",
       "      <td>2014-01-03</td>\n",
       "      <td>2772.0</td>\n",
       "      <td>145</td>\n",
       "      <td>717.09</td>\n",
       "      <td>NaN</td>\n",
       "      <td>NaT</td>\n",
       "      <td>Southern Group</td>\n",
       "      <td>AL</td>\n",
       "      <td>NaN</td>\n",
       "      <td>Jan</td>\n",
       "      <td>2014</td>\n",
       "      <td>NaN</td>\n",
       "      <td>NaN</td>\n",
       "      <td>2057.159292</td>\n",
       "      <td>2054.91</td>\n",
       "      <td>NaN</td>\n",
       "    </tr>\n",
       "  </tbody>\n",
       "</table>\n",
       "</div>"
      ],
      "text/plain": [
       "  Restaurant Name       Date  Net Sales  POS Checks  Labor Cost  Game Revenue  \\\n",
       "0         AL - 01 2014-01-01     1687.0          94      609.61           NaN   \n",
       "1         AL - 01 2014-01-02     2182.0         116      577.59           NaN   \n",
       "2         AL - 01 2014-01-03     2772.0         145      717.09           NaN   \n",
       "\n",
       "  Go Live Date Franchise/Owner State  Presto Devices Installed Month  Year  \\\n",
       "0          NaT  Southern Group    AL                       NaN   Jan  2014   \n",
       "1          NaT  Southern Group    AL                       NaN   Jan  2014   \n",
       "2          NaT  Southern Group    AL                       NaN   Jan  2014   \n",
       "\n",
       "   Avg_sales_before_presto  Avg_sales_after_presto  Avg_sales_no_presto  \\\n",
       "0                      NaN                     NaN          2057.159292   \n",
       "1                      NaN                     NaN          2057.159292   \n",
       "2                      NaN                     NaN          2057.159292   \n",
       "\n",
       "   Difference  Avg_sales_presto_2013  \n",
       "0     1077.39                    NaN  \n",
       "1     1604.41                    NaN  \n",
       "2     2054.91                    NaN  "
      ]
     },
     "execution_count": 1017,
     "metadata": {},
     "output_type": "execute_result"
    }
   ],
   "source": [
    "df11 = pd.merge(df10,df_devbefore_2014, on='Restaurant Name',how='left' )\n",
    "df11.head(3)"
   ]
  },
  {
   "cell_type": "code",
   "execution_count": 1018,
   "metadata": {},
   "outputs": [
    {
     "data": {
      "text/plain": [
       "(43063, 17)"
      ]
     },
     "execution_count": 1018,
     "metadata": {},
     "output_type": "execute_result"
    }
   ],
   "source": [
    "df11.shape"
   ]
  },
  {
   "cell_type": "code",
   "execution_count": 1019,
   "metadata": {},
   "outputs": [
    {
     "data": {
      "text/html": [
       "<div>\n",
       "<style scoped>\n",
       "    .dataframe tbody tr th:only-of-type {\n",
       "        vertical-align: middle;\n",
       "    }\n",
       "\n",
       "    .dataframe tbody tr th {\n",
       "        vertical-align: top;\n",
       "    }\n",
       "\n",
       "    .dataframe thead th {\n",
       "        text-align: right;\n",
       "    }\n",
       "</style>\n",
       "<table border=\"1\" class=\"dataframe\">\n",
       "  <thead>\n",
       "    <tr style=\"text-align: right;\">\n",
       "      <th></th>\n",
       "      <th>Restaurant Name</th>\n",
       "      <th>Date</th>\n",
       "      <th>Net Sales</th>\n",
       "      <th>POS Checks</th>\n",
       "      <th>Labor Cost</th>\n",
       "      <th>Game Revenue</th>\n",
       "      <th>Go Live Date</th>\n",
       "      <th>Franchise/Owner</th>\n",
       "      <th>State</th>\n",
       "      <th>Presto Devices Installed</th>\n",
       "      <th>Month</th>\n",
       "      <th>Year</th>\n",
       "      <th>Avg_sales_before_presto</th>\n",
       "      <th>Avg_sales_after_presto</th>\n",
       "      <th>Avg_sales_no_presto</th>\n",
       "      <th>Difference</th>\n",
       "      <th>Avg_sales_presto_2013</th>\n",
       "      <th>Avg_labor_cost_before_presto</th>\n",
       "      <th>Avg_labor_cost__after_presto</th>\n",
       "    </tr>\n",
       "  </thead>\n",
       "  <tbody>\n",
       "    <tr>\n",
       "      <th>0</th>\n",
       "      <td>AL - 01</td>\n",
       "      <td>2014-01-01</td>\n",
       "      <td>1687.0</td>\n",
       "      <td>94</td>\n",
       "      <td>609.61</td>\n",
       "      <td>NaN</td>\n",
       "      <td>NaT</td>\n",
       "      <td>Southern Group</td>\n",
       "      <td>AL</td>\n",
       "      <td>NaN</td>\n",
       "      <td>Jan</td>\n",
       "      <td>2014</td>\n",
       "      <td>NaN</td>\n",
       "      <td>NaN</td>\n",
       "      <td>2057.159292</td>\n",
       "      <td>1077.39</td>\n",
       "      <td>NaN</td>\n",
       "      <td>NaN</td>\n",
       "      <td>NaN</td>\n",
       "    </tr>\n",
       "    <tr>\n",
       "      <th>1</th>\n",
       "      <td>AL - 01</td>\n",
       "      <td>2014-01-02</td>\n",
       "      <td>2182.0</td>\n",
       "      <td>116</td>\n",
       "      <td>577.59</td>\n",
       "      <td>NaN</td>\n",
       "      <td>NaT</td>\n",
       "      <td>Southern Group</td>\n",
       "      <td>AL</td>\n",
       "      <td>NaN</td>\n",
       "      <td>Jan</td>\n",
       "      <td>2014</td>\n",
       "      <td>NaN</td>\n",
       "      <td>NaN</td>\n",
       "      <td>2057.159292</td>\n",
       "      <td>1604.41</td>\n",
       "      <td>NaN</td>\n",
       "      <td>NaN</td>\n",
       "      <td>NaN</td>\n",
       "    </tr>\n",
       "    <tr>\n",
       "      <th>2</th>\n",
       "      <td>AL - 01</td>\n",
       "      <td>2014-01-03</td>\n",
       "      <td>2772.0</td>\n",
       "      <td>145</td>\n",
       "      <td>717.09</td>\n",
       "      <td>NaN</td>\n",
       "      <td>NaT</td>\n",
       "      <td>Southern Group</td>\n",
       "      <td>AL</td>\n",
       "      <td>NaN</td>\n",
       "      <td>Jan</td>\n",
       "      <td>2014</td>\n",
       "      <td>NaN</td>\n",
       "      <td>NaN</td>\n",
       "      <td>2057.159292</td>\n",
       "      <td>2054.91</td>\n",
       "      <td>NaN</td>\n",
       "      <td>NaN</td>\n",
       "      <td>NaN</td>\n",
       "    </tr>\n",
       "  </tbody>\n",
       "</table>\n",
       "</div>"
      ],
      "text/plain": [
       "  Restaurant Name       Date  Net Sales  POS Checks  Labor Cost  Game Revenue  \\\n",
       "0         AL - 01 2014-01-01     1687.0          94      609.61           NaN   \n",
       "1         AL - 01 2014-01-02     2182.0         116      577.59           NaN   \n",
       "2         AL - 01 2014-01-03     2772.0         145      717.09           NaN   \n",
       "\n",
       "  Go Live Date Franchise/Owner State  Presto Devices Installed Month  Year  \\\n",
       "0          NaT  Southern Group    AL                       NaN   Jan  2014   \n",
       "1          NaT  Southern Group    AL                       NaN   Jan  2014   \n",
       "2          NaT  Southern Group    AL                       NaN   Jan  2014   \n",
       "\n",
       "   Avg_sales_before_presto  Avg_sales_after_presto  Avg_sales_no_presto  \\\n",
       "0                      NaN                     NaN          2057.159292   \n",
       "1                      NaN                     NaN          2057.159292   \n",
       "2                      NaN                     NaN          2057.159292   \n",
       "\n",
       "   Difference  Avg_sales_presto_2013  Avg_labor_cost_before_presto  \\\n",
       "0     1077.39                    NaN                           NaN   \n",
       "1     1604.41                    NaN                           NaN   \n",
       "2     2054.91                    NaN                           NaN   \n",
       "\n",
       "   Avg_labor_cost__after_presto  \n",
       "0                           NaN  \n",
       "1                           NaN  \n",
       "2                           NaN  "
      ]
     },
     "execution_count": 1019,
     "metadata": {},
     "output_type": "execute_result"
    }
   ],
   "source": [
    "df12 = pd.merge(df11,df_laborbefore_after, on='Restaurant Name',how='left' )\n",
    "df12.head(3)"
   ]
  },
  {
   "cell_type": "code",
   "execution_count": 1020,
   "metadata": {},
   "outputs": [
    {
     "data": {
      "text/html": [
       "<div>\n",
       "<style scoped>\n",
       "    .dataframe tbody tr th:only-of-type {\n",
       "        vertical-align: middle;\n",
       "    }\n",
       "\n",
       "    .dataframe tbody tr th {\n",
       "        vertical-align: top;\n",
       "    }\n",
       "\n",
       "    .dataframe thead th {\n",
       "        text-align: right;\n",
       "    }\n",
       "</style>\n",
       "<table border=\"1\" class=\"dataframe\">\n",
       "  <thead>\n",
       "    <tr style=\"text-align: right;\">\n",
       "      <th></th>\n",
       "      <th>Restaurant Name</th>\n",
       "      <th>Date</th>\n",
       "      <th>Net Sales</th>\n",
       "      <th>POS Checks</th>\n",
       "      <th>Labor Cost</th>\n",
       "      <th>Game Revenue</th>\n",
       "      <th>Go Live Date</th>\n",
       "      <th>Franchise/Owner</th>\n",
       "      <th>State</th>\n",
       "      <th>Presto Devices Installed</th>\n",
       "      <th>Month</th>\n",
       "      <th>Year</th>\n",
       "      <th>Avg_sales_before_presto</th>\n",
       "      <th>Avg_sales_after_presto</th>\n",
       "      <th>Avg_sales_no_presto</th>\n",
       "      <th>Difference</th>\n",
       "      <th>Avg_sales_presto_2013</th>\n",
       "      <th>Avg_labor_cost_before_presto</th>\n",
       "      <th>Avg_labor_cost__after_presto</th>\n",
       "      <th>Avg_Labor_cost_no_presto</th>\n",
       "    </tr>\n",
       "  </thead>\n",
       "  <tbody>\n",
       "    <tr>\n",
       "      <th>0</th>\n",
       "      <td>AL - 01</td>\n",
       "      <td>2014-01-01</td>\n",
       "      <td>1687.0</td>\n",
       "      <td>94</td>\n",
       "      <td>609.61</td>\n",
       "      <td>NaN</td>\n",
       "      <td>NaT</td>\n",
       "      <td>Southern Group</td>\n",
       "      <td>AL</td>\n",
       "      <td>NaN</td>\n",
       "      <td>Jan</td>\n",
       "      <td>2014</td>\n",
       "      <td>NaN</td>\n",
       "      <td>NaN</td>\n",
       "      <td>2057.159292</td>\n",
       "      <td>1077.39</td>\n",
       "      <td>NaN</td>\n",
       "      <td>NaN</td>\n",
       "      <td>NaN</td>\n",
       "      <td>522.350553</td>\n",
       "    </tr>\n",
       "    <tr>\n",
       "      <th>1</th>\n",
       "      <td>AL - 01</td>\n",
       "      <td>2014-01-02</td>\n",
       "      <td>2182.0</td>\n",
       "      <td>116</td>\n",
       "      <td>577.59</td>\n",
       "      <td>NaN</td>\n",
       "      <td>NaT</td>\n",
       "      <td>Southern Group</td>\n",
       "      <td>AL</td>\n",
       "      <td>NaN</td>\n",
       "      <td>Jan</td>\n",
       "      <td>2014</td>\n",
       "      <td>NaN</td>\n",
       "      <td>NaN</td>\n",
       "      <td>2057.159292</td>\n",
       "      <td>1604.41</td>\n",
       "      <td>NaN</td>\n",
       "      <td>NaN</td>\n",
       "      <td>NaN</td>\n",
       "      <td>522.350553</td>\n",
       "    </tr>\n",
       "    <tr>\n",
       "      <th>2</th>\n",
       "      <td>AL - 01</td>\n",
       "      <td>2014-01-03</td>\n",
       "      <td>2772.0</td>\n",
       "      <td>145</td>\n",
       "      <td>717.09</td>\n",
       "      <td>NaN</td>\n",
       "      <td>NaT</td>\n",
       "      <td>Southern Group</td>\n",
       "      <td>AL</td>\n",
       "      <td>NaN</td>\n",
       "      <td>Jan</td>\n",
       "      <td>2014</td>\n",
       "      <td>NaN</td>\n",
       "      <td>NaN</td>\n",
       "      <td>2057.159292</td>\n",
       "      <td>2054.91</td>\n",
       "      <td>NaN</td>\n",
       "      <td>NaN</td>\n",
       "      <td>NaN</td>\n",
       "      <td>522.350553</td>\n",
       "    </tr>\n",
       "  </tbody>\n",
       "</table>\n",
       "</div>"
      ],
      "text/plain": [
       "  Restaurant Name       Date  Net Sales  POS Checks  Labor Cost  Game Revenue  \\\n",
       "0         AL - 01 2014-01-01     1687.0          94      609.61           NaN   \n",
       "1         AL - 01 2014-01-02     2182.0         116      577.59           NaN   \n",
       "2         AL - 01 2014-01-03     2772.0         145      717.09           NaN   \n",
       "\n",
       "  Go Live Date Franchise/Owner State  Presto Devices Installed Month  Year  \\\n",
       "0          NaT  Southern Group    AL                       NaN   Jan  2014   \n",
       "1          NaT  Southern Group    AL                       NaN   Jan  2014   \n",
       "2          NaT  Southern Group    AL                       NaN   Jan  2014   \n",
       "\n",
       "   Avg_sales_before_presto  Avg_sales_after_presto  Avg_sales_no_presto  \\\n",
       "0                      NaN                     NaN          2057.159292   \n",
       "1                      NaN                     NaN          2057.159292   \n",
       "2                      NaN                     NaN          2057.159292   \n",
       "\n",
       "   Difference  Avg_sales_presto_2013  Avg_labor_cost_before_presto  \\\n",
       "0     1077.39                    NaN                           NaN   \n",
       "1     1604.41                    NaN                           NaN   \n",
       "2     2054.91                    NaN                           NaN   \n",
       "\n",
       "   Avg_labor_cost__after_presto  Avg_Labor_cost_no_presto  \n",
       "0                           NaN                522.350553  \n",
       "1                           NaN                522.350553  \n",
       "2                           NaN                522.350553  "
      ]
     },
     "execution_count": 1020,
     "metadata": {},
     "output_type": "execute_result"
    }
   ],
   "source": [
    "\n",
    "df13 = pd.merge(df12,df_nopresto_laborcost, on='Restaurant Name',how='left' )\n",
    "df13.head(3)"
   ]
  },
  {
   "cell_type": "code",
   "execution_count": 625,
   "metadata": {},
   "outputs": [
    {
     "data": {
      "text/plain": [
       "(43063, 20)"
      ]
     },
     "execution_count": 625,
     "metadata": {},
     "output_type": "execute_result"
    }
   ],
   "source": [
    "df13.shape"
   ]
  },
  {
   "cell_type": "code",
   "execution_count": 1022,
   "metadata": {},
   "outputs": [],
   "source": [
    "df13['Sale Month'] = pd.to_datetime(df13['Date'], format='%m').dt.month_name().str.slice(stop=3)\n",
    "df13['Sale Year'] = df13['Date'].dt.year"
   ]
  },
  {
   "cell_type": "code",
   "execution_count": 1023,
   "metadata": {},
   "outputs": [],
   "source": [
    "df13['Go Live Month'] = pd.to_datetime(df13['Go Live Date'], format='%m').dt.month_name().str.slice(stop=3)\n",
    "#df11['Go Live Year'] = df11['Go Live Date'].dt.year"
   ]
  },
  {
   "cell_type": "code",
   "execution_count": 1069,
   "metadata": {},
   "outputs": [],
   "source": [
    "df13.to_csv('Cleaned1.csv', sep='\\t', encoding='utf-8')"
   ]
  },
  {
   "cell_type": "code",
   "execution_count": null,
   "metadata": {},
   "outputs": [],
   "source": []
  },
  {
   "cell_type": "code",
   "execution_count": 1026,
   "metadata": {
    "scrolled": true
   },
   "outputs": [
    {
     "data": {
      "text/html": [
       "<div>\n",
       "<style scoped>\n",
       "    .dataframe tbody tr th:only-of-type {\n",
       "        vertical-align: middle;\n",
       "    }\n",
       "\n",
       "    .dataframe tbody tr th {\n",
       "        vertical-align: top;\n",
       "    }\n",
       "\n",
       "    .dataframe thead th {\n",
       "        text-align: right;\n",
       "    }\n",
       "</style>\n",
       "<table border=\"1\" class=\"dataframe\">\n",
       "  <thead>\n",
       "    <tr style=\"text-align: right;\">\n",
       "      <th></th>\n",
       "      <th>Restaurant Name</th>\n",
       "      <th>Month</th>\n",
       "      <th>Year</th>\n",
       "      <th>Net Sales</th>\n",
       "    </tr>\n",
       "  </thead>\n",
       "  <tbody>\n",
       "    <tr>\n",
       "      <th>0</th>\n",
       "      <td>AL - 02</td>\n",
       "      <td>Dec</td>\n",
       "      <td>2014</td>\n",
       "      <td>77885.0</td>\n",
       "    </tr>\n",
       "    <tr>\n",
       "      <th>1</th>\n",
       "      <td>AL - 02</td>\n",
       "      <td>Feb</td>\n",
       "      <td>2015</td>\n",
       "      <td>102101.0</td>\n",
       "    </tr>\n",
       "  </tbody>\n",
       "</table>\n",
       "</div>"
      ],
      "text/plain": [
       "  Restaurant Name Month  Year  Net Sales\n",
       "0         AL - 02   Dec  2014    77885.0\n",
       "1         AL - 02   Feb  2015   102101.0"
      ]
     },
     "execution_count": 1026,
     "metadata": {},
     "output_type": "execute_result"
    }
   ],
   "source": [
    "df4_monthly = df4.groupby(['Restaurant Name','Month','Year'])['Net Sales'].sum()\n",
    "df4_monthly = df4_monthly.reset_index()\n",
    "df4_monthly.head(2)"
   ]
  },
  {
   "cell_type": "code",
   "execution_count": 1027,
   "metadata": {},
   "outputs": [
    {
     "data": {
      "text/html": [
       "<div>\n",
       "<style scoped>\n",
       "    .dataframe tbody tr th:only-of-type {\n",
       "        vertical-align: middle;\n",
       "    }\n",
       "\n",
       "    .dataframe tbody tr th {\n",
       "        vertical-align: top;\n",
       "    }\n",
       "\n",
       "    .dataframe thead th {\n",
       "        text-align: right;\n",
       "    }\n",
       "</style>\n",
       "<table border=\"1\" class=\"dataframe\">\n",
       "  <thead>\n",
       "    <tr style=\"text-align: right;\">\n",
       "      <th></th>\n",
       "      <th>Restaurant Name</th>\n",
       "      <th>Month</th>\n",
       "      <th>Year</th>\n",
       "      <th>Labor Cost</th>\n",
       "    </tr>\n",
       "  </thead>\n",
       "  <tbody>\n",
       "    <tr>\n",
       "      <th>0</th>\n",
       "      <td>AL - 02</td>\n",
       "      <td>Dec</td>\n",
       "      <td>2014</td>\n",
       "      <td>18281.41</td>\n",
       "    </tr>\n",
       "    <tr>\n",
       "      <th>1</th>\n",
       "      <td>AL - 02</td>\n",
       "      <td>Feb</td>\n",
       "      <td>2015</td>\n",
       "      <td>21210.65</td>\n",
       "    </tr>\n",
       "  </tbody>\n",
       "</table>\n",
       "</div>"
      ],
      "text/plain": [
       "  Restaurant Name Month  Year  Labor Cost\n",
       "0         AL - 02   Dec  2014    18281.41\n",
       "1         AL - 02   Feb  2015    21210.65"
      ]
     },
     "execution_count": 1027,
     "metadata": {},
     "output_type": "execute_result"
    }
   ],
   "source": [
    "df4_labor_monthly = df4.groupby(['Restaurant Name','Month','Year'])['Labor Cost'].sum()\n",
    "df4_labor_monthly = df4_labor_monthly.reset_index()\n",
    "df4_labor_monthly.head(2)"
   ]
  },
  {
   "cell_type": "code",
   "execution_count": 1029,
   "metadata": {
    "scrolled": true
   },
   "outputs": [],
   "source": [
    "#df5 #before"
   ]
  },
  {
   "cell_type": "code",
   "execution_count": 1030,
   "metadata": {
    "scrolled": true
   },
   "outputs": [],
   "source": [
    "df5_monthly = df5.groupby(['Restaurant Name','Month','Year'])['Net Sales'].sum()\n",
    "df5_monthly = df5_monthly.reset_index()\n",
    "#df5_monthly"
   ]
  },
  {
   "cell_type": "code",
   "execution_count": 1032,
   "metadata": {},
   "outputs": [
    {
     "data": {
      "text/html": [
       "<div>\n",
       "<style scoped>\n",
       "    .dataframe tbody tr th:only-of-type {\n",
       "        vertical-align: middle;\n",
       "    }\n",
       "\n",
       "    .dataframe tbody tr th {\n",
       "        vertical-align: top;\n",
       "    }\n",
       "\n",
       "    .dataframe thead th {\n",
       "        text-align: right;\n",
       "    }\n",
       "</style>\n",
       "<table border=\"1\" class=\"dataframe\">\n",
       "  <thead>\n",
       "    <tr style=\"text-align: right;\">\n",
       "      <th></th>\n",
       "      <th>Restaurant Name</th>\n",
       "      <th>Month</th>\n",
       "      <th>Year</th>\n",
       "      <th>Labor Cost</th>\n",
       "    </tr>\n",
       "  </thead>\n",
       "  <tbody>\n",
       "    <tr>\n",
       "      <th>0</th>\n",
       "      <td>AL - 02</td>\n",
       "      <td>Apr</td>\n",
       "      <td>2014</td>\n",
       "      <td>17771.45</td>\n",
       "    </tr>\n",
       "    <tr>\n",
       "      <th>1</th>\n",
       "      <td>AL - 02</td>\n",
       "      <td>Aug</td>\n",
       "      <td>2014</td>\n",
       "      <td>20844.44</td>\n",
       "    </tr>\n",
       "  </tbody>\n",
       "</table>\n",
       "</div>"
      ],
      "text/plain": [
       "  Restaurant Name Month  Year  Labor Cost\n",
       "0         AL - 02   Apr  2014    17771.45\n",
       "1         AL - 02   Aug  2014    20844.44"
      ]
     },
     "execution_count": 1032,
     "metadata": {},
     "output_type": "execute_result"
    }
   ],
   "source": [
    "df5_labor_monthly = df5.groupby(['Restaurant Name','Month','Year'])['Labor Cost'].sum()\n",
    "df5_labor_monthly = df5_labor_monthly.reset_index()\n",
    "df5_labor_monthly.head(2)"
   ]
  },
  {
   "cell_type": "code",
   "execution_count": 667,
   "metadata": {},
   "outputs": [],
   "source": [
    "#df_common_months['Restaurant Name'].nunique()"
   ]
  },
  {
   "cell_type": "code",
   "execution_count": 1033,
   "metadata": {
    "scrolled": true
   },
   "outputs": [
    {
     "data": {
      "text/html": [
       "<div>\n",
       "<style scoped>\n",
       "    .dataframe tbody tr th:only-of-type {\n",
       "        vertical-align: middle;\n",
       "    }\n",
       "\n",
       "    .dataframe tbody tr th {\n",
       "        vertical-align: top;\n",
       "    }\n",
       "\n",
       "    .dataframe thead th {\n",
       "        text-align: right;\n",
       "    }\n",
       "</style>\n",
       "<table border=\"1\" class=\"dataframe\">\n",
       "  <thead>\n",
       "    <tr style=\"text-align: right;\">\n",
       "      <th></th>\n",
       "      <th>Restaurant Name</th>\n",
       "      <th>Month</th>\n",
       "      <th>Net Sales_x</th>\n",
       "      <th>Net Sales_y</th>\n",
       "    </tr>\n",
       "  </thead>\n",
       "  <tbody>\n",
       "    <tr>\n",
       "      <th>0</th>\n",
       "      <td>AL - 02</td>\n",
       "      <td>Feb</td>\n",
       "      <td>102101.0</td>\n",
       "      <td>83937.0</td>\n",
       "    </tr>\n",
       "    <tr>\n",
       "      <th>1</th>\n",
       "      <td>AL - 02</td>\n",
       "      <td>Jan</td>\n",
       "      <td>93814.0</td>\n",
       "      <td>84910.0</td>\n",
       "    </tr>\n",
       "    <tr>\n",
       "      <th>2</th>\n",
       "      <td>AL - 02</td>\n",
       "      <td>Mar</td>\n",
       "      <td>95745.0</td>\n",
       "      <td>90630.0</td>\n",
       "    </tr>\n",
       "    <tr>\n",
       "      <th>3</th>\n",
       "      <td>AL - 02</td>\n",
       "      <td>Nov</td>\n",
       "      <td>15130.0</td>\n",
       "      <td>63441.0</td>\n",
       "    </tr>\n",
       "    <tr>\n",
       "      <th>4</th>\n",
       "      <td>AL - 04</td>\n",
       "      <td>Feb</td>\n",
       "      <td>159181.0</td>\n",
       "      <td>139019.0</td>\n",
       "    </tr>\n",
       "  </tbody>\n",
       "</table>\n",
       "</div>"
      ],
      "text/plain": [
       "  Restaurant Name Month  Net Sales_x  Net Sales_y\n",
       "0         AL - 02   Feb     102101.0      83937.0\n",
       "1         AL - 02   Jan      93814.0      84910.0\n",
       "2         AL - 02   Mar      95745.0      90630.0\n",
       "3         AL - 02   Nov      15130.0      63441.0\n",
       "4         AL - 04   Feb     159181.0     139019.0"
      ]
     },
     "execution_count": 1033,
     "metadata": {},
     "output_type": "execute_result"
    }
   ],
   "source": [
    "df_common_months = pd.merge(df4_monthly,df5_monthly,on=['Restaurant Name','Month'])[['Restaurant Name','Month','Net Sales_x','Net Sales_y']]\n",
    "df_common_months.head(5)"
   ]
  },
  {
   "cell_type": "code",
   "execution_count": 1099,
   "metadata": {},
   "outputs": [],
   "source": [
    "df_common_months['Difference']=((df_common_months['Net Sales_x']-df_common_months['Net Sales_y'])/(df_common_months['Net Sales_x']))*100"
   ]
  },
  {
   "cell_type": "code",
   "execution_count": 1100,
   "metadata": {},
   "outputs": [
    {
     "data": {
      "text/html": [
       "<div>\n",
       "<style scoped>\n",
       "    .dataframe tbody tr th:only-of-type {\n",
       "        vertical-align: middle;\n",
       "    }\n",
       "\n",
       "    .dataframe tbody tr th {\n",
       "        vertical-align: top;\n",
       "    }\n",
       "\n",
       "    .dataframe thead th {\n",
       "        text-align: right;\n",
       "    }\n",
       "</style>\n",
       "<table border=\"1\" class=\"dataframe\">\n",
       "  <thead>\n",
       "    <tr style=\"text-align: right;\">\n",
       "      <th></th>\n",
       "      <th>Restaurant Name</th>\n",
       "      <th>Month</th>\n",
       "      <th>Net Sales_x</th>\n",
       "      <th>Net Sales_y</th>\n",
       "      <th>Difference</th>\n",
       "    </tr>\n",
       "  </thead>\n",
       "  <tbody>\n",
       "    <tr>\n",
       "      <th>0</th>\n",
       "      <td>AL - 02</td>\n",
       "      <td>Feb</td>\n",
       "      <td>102101.0</td>\n",
       "      <td>83937.0</td>\n",
       "      <td>17.790227</td>\n",
       "    </tr>\n",
       "    <tr>\n",
       "      <th>1</th>\n",
       "      <td>AL - 02</td>\n",
       "      <td>Jan</td>\n",
       "      <td>93814.0</td>\n",
       "      <td>84910.0</td>\n",
       "      <td>9.491121</td>\n",
       "    </tr>\n",
       "    <tr>\n",
       "      <th>2</th>\n",
       "      <td>AL - 02</td>\n",
       "      <td>Mar</td>\n",
       "      <td>95745.0</td>\n",
       "      <td>90630.0</td>\n",
       "      <td>5.342316</td>\n",
       "    </tr>\n",
       "    <tr>\n",
       "      <th>3</th>\n",
       "      <td>AL - 02</td>\n",
       "      <td>Nov</td>\n",
       "      <td>15130.0</td>\n",
       "      <td>63441.0</td>\n",
       "      <td>-319.306015</td>\n",
       "    </tr>\n",
       "    <tr>\n",
       "      <th>4</th>\n",
       "      <td>AL - 04</td>\n",
       "      <td>Feb</td>\n",
       "      <td>159181.0</td>\n",
       "      <td>139019.0</td>\n",
       "      <td>12.666085</td>\n",
       "    </tr>\n",
       "  </tbody>\n",
       "</table>\n",
       "</div>"
      ],
      "text/plain": [
       "  Restaurant Name Month  Net Sales_x  Net Sales_y  Difference\n",
       "0         AL - 02   Feb     102101.0      83937.0   17.790227\n",
       "1         AL - 02   Jan      93814.0      84910.0    9.491121\n",
       "2         AL - 02   Mar      95745.0      90630.0    5.342316\n",
       "3         AL - 02   Nov      15130.0      63441.0 -319.306015\n",
       "4         AL - 04   Feb     159181.0     139019.0   12.666085"
      ]
     },
     "execution_count": 1100,
     "metadata": {},
     "output_type": "execute_result"
    }
   ],
   "source": [
    "df_common_months.head()"
   ]
  },
  {
   "cell_type": "code",
   "execution_count": 1036,
   "metadata": {},
   "outputs": [
    {
     "data": {
      "text/html": [
       "<div>\n",
       "<style scoped>\n",
       "    .dataframe tbody tr th:only-of-type {\n",
       "        vertical-align: middle;\n",
       "    }\n",
       "\n",
       "    .dataframe tbody tr th {\n",
       "        vertical-align: top;\n",
       "    }\n",
       "\n",
       "    .dataframe thead th {\n",
       "        text-align: right;\n",
       "    }\n",
       "</style>\n",
       "<table border=\"1\" class=\"dataframe\">\n",
       "  <thead>\n",
       "    <tr style=\"text-align: right;\">\n",
       "      <th></th>\n",
       "      <th>Restaurant Name</th>\n",
       "      <th>Month</th>\n",
       "      <th>Labor Cost_x</th>\n",
       "      <th>Labor Cost_y</th>\n",
       "    </tr>\n",
       "  </thead>\n",
       "  <tbody>\n",
       "    <tr>\n",
       "      <th>0</th>\n",
       "      <td>AL - 02</td>\n",
       "      <td>Feb</td>\n",
       "      <td>21210.65</td>\n",
       "      <td>18040.46</td>\n",
       "    </tr>\n",
       "    <tr>\n",
       "      <th>1</th>\n",
       "      <td>AL - 02</td>\n",
       "      <td>Jan</td>\n",
       "      <td>20841.80</td>\n",
       "      <td>19322.49</td>\n",
       "    </tr>\n",
       "  </tbody>\n",
       "</table>\n",
       "</div>"
      ],
      "text/plain": [
       "  Restaurant Name Month  Labor Cost_x  Labor Cost_y\n",
       "0         AL - 02   Feb      21210.65      18040.46\n",
       "1         AL - 02   Jan      20841.80      19322.49"
      ]
     },
     "execution_count": 1036,
     "metadata": {},
     "output_type": "execute_result"
    }
   ],
   "source": [
    "df_common_months_labor = pd.merge(df4_labor_monthly,df5_labor_monthly,on=['Restaurant Name','Month'])[['Restaurant Name','Month','Labor Cost_x','Labor Cost_y']]\n",
    "df_common_months_labor.head(2)"
   ]
  },
  {
   "cell_type": "code",
   "execution_count": 1092,
   "metadata": {},
   "outputs": [
    {
     "data": {
      "text/html": [
       "<div>\n",
       "<style scoped>\n",
       "    .dataframe tbody tr th:only-of-type {\n",
       "        vertical-align: middle;\n",
       "    }\n",
       "\n",
       "    .dataframe tbody tr th {\n",
       "        vertical-align: top;\n",
       "    }\n",
       "\n",
       "    .dataframe thead th {\n",
       "        text-align: right;\n",
       "    }\n",
       "</style>\n",
       "<table border=\"1\" class=\"dataframe\">\n",
       "  <thead>\n",
       "    <tr style=\"text-align: right;\">\n",
       "      <th></th>\n",
       "      <th>Restaurant Name</th>\n",
       "      <th>Month</th>\n",
       "      <th>Net Sales_x</th>\n",
       "      <th>Net Sales_y</th>\n",
       "    </tr>\n",
       "  </thead>\n",
       "  <tbody>\n",
       "    <tr>\n",
       "      <th>0</th>\n",
       "      <td>AL - 02</td>\n",
       "      <td>Feb</td>\n",
       "      <td>102101.0</td>\n",
       "      <td>83937.0</td>\n",
       "    </tr>\n",
       "    <tr>\n",
       "      <th>1</th>\n",
       "      <td>AL - 02</td>\n",
       "      <td>Jan</td>\n",
       "      <td>93814.0</td>\n",
       "      <td>84910.0</td>\n",
       "    </tr>\n",
       "  </tbody>\n",
       "</table>\n",
       "</div>"
      ],
      "text/plain": [
       "  Restaurant Name Month  Net Sales_x  Net Sales_y\n",
       "0         AL - 02   Feb     102101.0      83937.0\n",
       "1         AL - 02   Jan      93814.0      84910.0"
      ]
     },
     "execution_count": 1092,
     "metadata": {},
     "output_type": "execute_result"
    }
   ],
   "source": [
    "df_common_months.head(2)"
   ]
  },
  {
   "cell_type": "code",
   "execution_count": 1093,
   "metadata": {},
   "outputs": [
    {
     "data": {
      "text/html": [
       "<div>\n",
       "<style scoped>\n",
       "    .dataframe tbody tr th:only-of-type {\n",
       "        vertical-align: middle;\n",
       "    }\n",
       "\n",
       "    .dataframe tbody tr th {\n",
       "        vertical-align: top;\n",
       "    }\n",
       "\n",
       "    .dataframe thead th {\n",
       "        text-align: right;\n",
       "    }\n",
       "</style>\n",
       "<table border=\"1\" class=\"dataframe\">\n",
       "  <thead>\n",
       "    <tr style=\"text-align: right;\">\n",
       "      <th></th>\n",
       "      <th>Restaurant Name</th>\n",
       "      <th>Franchise/Owner</th>\n",
       "      <th>Month</th>\n",
       "      <th>Year</th>\n",
       "      <th>Net Sales</th>\n",
       "    </tr>\n",
       "  </thead>\n",
       "  <tbody>\n",
       "    <tr>\n",
       "      <th>0</th>\n",
       "      <td>AL - 01</td>\n",
       "      <td>Southern Group</td>\n",
       "      <td>Apr</td>\n",
       "      <td>2014</td>\n",
       "      <td>61595.0</td>\n",
       "    </tr>\n",
       "    <tr>\n",
       "      <th>1</th>\n",
       "      <td>AL - 01</td>\n",
       "      <td>Southern Group</td>\n",
       "      <td>Aug</td>\n",
       "      <td>2014</td>\n",
       "      <td>68209.0</td>\n",
       "    </tr>\n",
       "    <tr>\n",
       "      <th>2</th>\n",
       "      <td>AL - 01</td>\n",
       "      <td>Southern Group</td>\n",
       "      <td>Dec</td>\n",
       "      <td>2014</td>\n",
       "      <td>58466.0</td>\n",
       "    </tr>\n",
       "    <tr>\n",
       "      <th>3</th>\n",
       "      <td>AL - 01</td>\n",
       "      <td>Southern Group</td>\n",
       "      <td>Feb</td>\n",
       "      <td>2014</td>\n",
       "      <td>56308.0</td>\n",
       "    </tr>\n",
       "    <tr>\n",
       "      <th>4</th>\n",
       "      <td>AL - 01</td>\n",
       "      <td>Southern Group</td>\n",
       "      <td>Feb</td>\n",
       "      <td>2015</td>\n",
       "      <td>68112.0</td>\n",
       "    </tr>\n",
       "    <tr>\n",
       "      <th>5</th>\n",
       "      <td>AL - 01</td>\n",
       "      <td>Southern Group</td>\n",
       "      <td>Jan</td>\n",
       "      <td>2014</td>\n",
       "      <td>62338.0</td>\n",
       "    </tr>\n",
       "    <tr>\n",
       "      <th>6</th>\n",
       "      <td>AL - 01</td>\n",
       "      <td>Southern Group</td>\n",
       "      <td>Jan</td>\n",
       "      <td>2015</td>\n",
       "      <td>67680.0</td>\n",
       "    </tr>\n",
       "  </tbody>\n",
       "</table>\n",
       "</div>"
      ],
      "text/plain": [
       "  Restaurant Name Franchise/Owner Month  Year  Net Sales\n",
       "0         AL - 01  Southern Group   Apr  2014    61595.0\n",
       "1         AL - 01  Southern Group   Aug  2014    68209.0\n",
       "2         AL - 01  Southern Group   Dec  2014    58466.0\n",
       "3         AL - 01  Southern Group   Feb  2014    56308.0\n",
       "4         AL - 01  Southern Group   Feb  2015    68112.0\n",
       "5         AL - 01  Southern Group   Jan  2014    62338.0\n",
       "6         AL - 01  Southern Group   Jan  2015    67680.0"
      ]
     },
     "execution_count": 1093,
     "metadata": {},
     "output_type": "execute_result"
    }
   ],
   "source": [
    "df7_monthly = df7.groupby(['Restaurant Name','Franchise/Owner','Month','Year'])['Net Sales'].sum()\n",
    "df7_monthly = df7_monthly.reset_index()\n",
    "df7_monthly.head(7)"
   ]
  },
  {
   "cell_type": "code",
   "execution_count": 1094,
   "metadata": {},
   "outputs": [
    {
     "data": {
      "text/html": [
       "<div>\n",
       "<style scoped>\n",
       "    .dataframe tbody tr th:only-of-type {\n",
       "        vertical-align: middle;\n",
       "    }\n",
       "\n",
       "    .dataframe tbody tr th {\n",
       "        vertical-align: top;\n",
       "    }\n",
       "\n",
       "    .dataframe thead th {\n",
       "        text-align: right;\n",
       "    }\n",
       "</style>\n",
       "<table border=\"1\" class=\"dataframe\">\n",
       "  <thead>\n",
       "    <tr style=\"text-align: right;\">\n",
       "      <th></th>\n",
       "      <th>Month</th>\n",
       "      <th>Net Sales_x</th>\n",
       "      <th>Net Sales_y</th>\n",
       "      <th>Net Sales</th>\n",
       "    </tr>\n",
       "  </thead>\n",
       "  <tbody>\n",
       "    <tr>\n",
       "      <th>0</th>\n",
       "      <td>Feb</td>\n",
       "      <td>102101.0</td>\n",
       "      <td>83937.0</td>\n",
       "      <td>56308.0</td>\n",
       "    </tr>\n",
       "    <tr>\n",
       "      <th>1</th>\n",
       "      <td>Feb</td>\n",
       "      <td>102101.0</td>\n",
       "      <td>83937.0</td>\n",
       "      <td>68112.0</td>\n",
       "    </tr>\n",
       "    <tr>\n",
       "      <th>2</th>\n",
       "      <td>Feb</td>\n",
       "      <td>102101.0</td>\n",
       "      <td>83937.0</td>\n",
       "      <td>150664.0</td>\n",
       "    </tr>\n",
       "    <tr>\n",
       "      <th>3</th>\n",
       "      <td>Feb</td>\n",
       "      <td>102101.0</td>\n",
       "      <td>83937.0</td>\n",
       "      <td>193727.0</td>\n",
       "    </tr>\n",
       "    <tr>\n",
       "      <th>4</th>\n",
       "      <td>Feb</td>\n",
       "      <td>102101.0</td>\n",
       "      <td>83937.0</td>\n",
       "      <td>114023.0</td>\n",
       "    </tr>\n",
       "  </tbody>\n",
       "</table>\n",
       "</div>"
      ],
      "text/plain": [
       "  Month  Net Sales_x  Net Sales_y  Net Sales\n",
       "0   Feb     102101.0      83937.0    56308.0\n",
       "1   Feb     102101.0      83937.0    68112.0\n",
       "2   Feb     102101.0      83937.0   150664.0\n",
       "3   Feb     102101.0      83937.0   193727.0\n",
       "4   Feb     102101.0      83937.0   114023.0"
      ]
     },
     "execution_count": 1094,
     "metadata": {},
     "output_type": "execute_result"
    }
   ],
   "source": [
    "df_common_months1 = pd.merge(df_common_months,df7_monthly,on=['Month'])[['Month','Net Sales_x','Net Sales_y','Net Sales']]\n",
    "df_common_months1.head(5)"
   ]
  },
  {
   "cell_type": "code",
   "execution_count": 1095,
   "metadata": {},
   "outputs": [],
   "source": [
    "df_common_months.to_csv('df_common_months.csv', sep='\\t', encoding='utf-8')"
   ]
  },
  {
   "cell_type": "code",
   "execution_count": 1096,
   "metadata": {},
   "outputs": [],
   "source": [
    "df_common_months_labor.to_csv('df_common_months1.csv', sep='\\t', encoding='utf-8')"
   ]
  },
  {
   "cell_type": "code",
   "execution_count": null,
   "metadata": {},
   "outputs": [],
   "source": []
  }
 ],
 "metadata": {
  "kernelspec": {
   "display_name": "Python 3",
   "language": "python",
   "name": "python3"
  },
  "language_info": {
   "codemirror_mode": {
    "name": "ipython",
    "version": 3
   },
   "file_extension": ".py",
   "mimetype": "text/x-python",
   "name": "python",
   "nbconvert_exporter": "python",
   "pygments_lexer": "ipython3",
   "version": "3.7.1"
  }
 },
 "nbformat": 4,
 "nbformat_minor": 2
}
